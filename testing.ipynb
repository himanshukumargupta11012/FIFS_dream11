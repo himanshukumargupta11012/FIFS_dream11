{
 "cells": [
  {
   "cell_type": "code",
   "execution_count": null,
   "metadata": {},
   "outputs": [
    {
     "data": {
      "text/plain": [
       "Counter({27: 1733,\n",
       "         26: 692,\n",
       "         28: 355,\n",
       "         25: 67,\n",
       "         29: 34,\n",
       "         30: 3,\n",
       "         24: 2,\n",
       "         31: 1,\n",
       "         23: 1})"
      ]
     },
     "execution_count": 23,
     "metadata": {},
     "output_type": "execute_result"
    }
   ],
   "source": [
    "import glob\n",
    "import pandas as pd\n",
    "import json\n",
    "from collections import Counter\n",
    "pd.set_option('display.max_columns', None)\n",
    "pd.set_option('display.max_rows', None)\n",
    "\n",
    "all_matches = glob.glob('src/data/raw/cricsheet/all_json/*')\n",
    "\n",
    "match_with_not_30 = []\n",
    "\n",
    "\n",
    "for match in all_matches:\n",
    "    with open(match, 'r') as f:\n",
    "        \n",
    "        data = json.load(f)\n",
    "        # if len(data[\"info\"][\"registry\"][\"people\"].keys())  31:\n",
    "        match_with_not_30.append(len(data[\"info\"][\"registry\"][\"people\"].keys()))\n",
    "\n",
    "\n",
    "Counter(match_with_not_30)"
   ]
  },
  {
   "cell_type": "code",
   "execution_count": 28,
   "metadata": {},
   "outputs": [
    {
     "name": "stdout",
     "output_type": "stream",
     "text": [
      "113\n",
      "['player', 'team', 'opposition', 'date', 'venue', 'match_type', 'match_id', 'player_id', 'fantasy_points', 'Total_matches_played_sum', 'inning', 'year', 'cumulative_Innings Batted_sum', 'last_15_matches_Innings Batted_sum', 'cumulative_Runs_sum', 'last_15_matches_Runs_sum', 'cumulative_Fours_sum', 'last_15_matches_Fours_sum', 'cumulative_Sixes_sum', 'last_15_matches_Sixes_sum', 'cumulative_Outs_sum', 'last_15_matches_Outs_sum', 'cumulative_Dot Balls_sum', 'last_15_matches_Dot Balls_sum', 'cumulative_Balls Faced_sum', 'last_15_matches_Balls Faced_sum', 'cumulative_Innings Bowled_sum', 'last_15_matches_Innings Bowled_sum', 'cumulative_Balls Bowled_sum', 'last_15_matches_Balls Bowled_sum', 'cumulative_Wickets_sum', 'last_15_matches_Wickets_sum', 'cumulative_LBWs_sum', 'last_15_matches_LBWs_sum', 'cumulative_Bowleds_sum', 'last_15_matches_Bowleds_sum', 'cumulative_Extras_sum', 'last_15_matches_Extras_sum', 'cumulative_Maiden Overs_sum', 'last_15_matches_Maiden Overs_sum', 'cumulative_Runsgiven_sum', 'last_15_matches_Runsgiven_sum', 'cumulative_Dot Balls Bowled_sum', 'last_15_matches_Dot Balls Bowled_sum', 'cumulative_Foursgiven_sum', 'last_15_matches_Foursgiven_sum', 'cumulative_Sixesgiven_sum', 'last_15_matches_Sixesgiven_sum', 'cumulative_Stumpings_sum', 'last_15_matches_Stumpings_sum', 'cumulative_Catches_sum', 'last_15_matches_Catches_sum', 'cumulative_direct run_outs_sum', 'last_15_matches_direct run_outs_sum', 'cumulative_indirect run_outs_sum', 'last_15_matches_indirect run_outs_sum', 'last_15_matches_lbw_bowled_sum', 'last_15_matches_centuries_sum', 'last_15_matches_half_centuries_sum', 'last_15_matches_duck_outs_sum', 'last_15_matches_3wickets_sum', 'last_15_matches_4wickets_sum', 'last_15_matches_5wickets_sum', 'last_year_avg_Runs', 'last_year_avg_Wickets', 'cumulative_derived_Dot Ball%', 'cumulative_derived_Batting Strike Rate', 'cumulative_derived_Batting Avg', 'cumulative_derived_Mean Score', 'cumulative_derived_Boundary%', 'cumulative_derived_Mean Balls Faced', 'cumulative_derived_Dismissal Rate', 'cumulative_derived_Economy Rate', 'cumulative_derived_Bowling Dot Ball%', 'cumulative_derived_Boundary Given%', 'cumulative_derived_Bowling Avg', 'cumulative_derived_Bowling Strike Rate', 'last_15_matches_derived_Dot Ball%', 'last_15_matches_derived_Batting Strike Rate', 'last_15_matches_derived_Batting Avg', 'last_15_matches_derived_Mean Score', 'last_15_matches_derived_Boundary%', 'last_15_matches_derived_Mean Balls Faced', 'last_15_matches_derived_Dismissal Rate', 'last_15_matches_derived_Economy Rate', 'last_15_matches_derived_Bowling Dot Ball%', 'last_15_matches_derived_Boundary Given%', 'last_15_matches_derived_Bowling Avg', 'last_15_matches_derived_Bowling Strike Rate', 'Venue_total_matches_sum', 'cumulative_Venue_Runs_sum', 'last_15_matches_Venue_Runs_sum', 'cumulative_Venue_Wickets_sum', 'last_15_matches_Venue_Wickets_sum', 'Opposition_total_matches_sum', 'cumulative_Opposition_Runs_sum', 'last_15_matches_Opposition_Runs_sum', 'cumulative_Opposition_Wickets_sum', 'last_15_matches_Opposition_Wickets_sum', 'match_type_total_matches_sum', 'cumulative_match_type_Runs_sum', 'last_15_matches_match_type_Runs_sum', 'cumulative_match_type_Wickets_sum', 'last_15_matches_match_type_Wickets_sum', 'Inning_total_matches_sum', 'cumulative_Inning_Runs_sum', 'last_15_matches_Inning_Runs_sum', 'cumulative_Inning_Wickets_sum', 'last_15_matches_Inning_Wickets_sum', 'venue_avg_runs_sum', 'venue_avg_wickets_sum', 'league_avg_runs_sum', 'league_avg_wickets_sum']\n"
     ]
    }
   ],
   "source": [
    "df = pd.read_csv('src/data/processed/test/15_ODI.csv')\n",
    "\n",
    "print(len(df.columns.tolist()))\n",
    "print(df.columns.tolist())"
   ]
  }
 ],
 "metadata": {
  "kernelspec": {
   "display_name": "dream11",
   "language": "python",
   "name": "python3"
  },
  "language_info": {
   "codemirror_mode": {
    "name": "ipython",
    "version": 3
   },
   "file_extension": ".py",
   "mimetype": "text/x-python",
   "name": "python",
   "nbconvert_exporter": "python",
   "pygments_lexer": "ipython3",
   "version": "3.10.16"
  }
 },
 "nbformat": 4,
 "nbformat_minor": 2
}
