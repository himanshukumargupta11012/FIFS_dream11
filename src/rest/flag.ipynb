{
 "cells": [
  {
   "cell_type": "code",
   "execution_count": 37,
   "metadata": {},
   "outputs": [],
   "source": [
    "import pandas as pd\n",
    "import tqdm\n",
    "import requests\n",
    "import os\n",
    "from bs4 import BeautifulSoup"
   ]
  },
  {
   "cell_type": "code",
   "execution_count": 20,
   "metadata": {},
   "outputs": [
    {
     "data": {
      "text/plain": [
       "0                       Delhi\n",
       "1      Chattogram Challengers\n",
       "2           Adelaide Strikers\n",
       "3               Khulna Tigers\n",
       "4                 South Korea\n",
       "                ...          \n",
       "341          South East Stars\n",
       "342    Loughborough Lightning\n",
       "343                 Middlesex\n",
       "344             Sylhet Royals\n",
       "345               Isle of Man\n",
       "Length: 346, dtype: object"
      ]
     },
     "execution_count": 20,
     "metadata": {},
     "output_type": "execute_result"
    }
   ],
   "source": [
    "matches_file_path = '../data/raw/cricksheet/data/matches.txt'\n",
    "matches = pd.read_csv(matches_file_path, sep=' - ', header=None, engine='python')\n",
    "matches[[5, 6]] = matches[5].str.split(' vs ', expand=True)\n",
    "matches.head()\n",
    "unique_names_5 = matches[5].unique()\n",
    "unique_names_6 = matches[6].unique()\n",
    "unique_names = pd.Series(list(set(unique_names_5) | set(unique_names_6)))\n",
    "unique_names = unique_names.dropna()\n",
    "unique_names = unique_names.str.strip()\n",
    "unique_names"
   ]
  },
  {
   "cell_type": "code",
   "execution_count": 44,
   "metadata": {},
   "outputs": [],
   "source": [
    "url = 'https://en.wikipedia.org/wiki/'\n",
    "\n",
    "def get_page(url):\n",
    "    page = requests.get(url)\n",
    "    soup = BeautifulSoup(page.content, 'html.parser')\n",
    "    return soup\n",
    "\n",
    "def get_images(soup):\n",
    "    images = []\n",
    "    for img in soup.find_all('img'):\n",
    "        images.append(img['src'])\n",
    "    return images\n",
    "\n",
    "def save_image(url, filename, file_type = 'png'):\n",
    "    print('Downloading ' + filename + ' from ' + url + ' file_type: ' + file_type)\n",
    "    img = requests.get(url)\n",
    "    with open('../data/raw/additional_data/logo/' + filename + '.' + file_type, 'wb') as f:\n",
    "        f.write(img.content)"
   ]
  },
  {
   "cell_type": "code",
   "execution_count": 45,
   "metadata": {},
   "outputs": [
    {
     "name": "stderr",
     "output_type": "stream",
     "text": [
      "  5%|▍         | 17/346 [00:00<00:04, 67.88it/s]"
     ]
    },
    {
     "name": "stdout",
     "output_type": "stream",
     "text": [
      "Image not found for Boland\n",
      "Downloading Northern Diamonds from https://upload.wikimedia.org/wikipedia/en/thumb/1/1e/Northern_Diamonds_Colour_Logo.png/125px-Northern_Diamonds_Colour_Logo.png file_type: png\n"
     ]
    },
    {
     "name": "stderr",
     "output_type": "stream",
     "text": [
      "  9%|▉         | 31/346 [00:01<00:12, 25.99it/s]"
     ]
    },
    {
     "name": "stdout",
     "output_type": "stream",
     "text": [
      "Downloading Trinbago Knight Riders from https://upload.wikimedia.org/wikipedia/en/thumb/b/bf/Trinbago_Knight_Riders_logo.svg/200px-Trinbago_Knight_Riders_logo.svg.png file_type: png\n"
     ]
    },
    {
     "name": "stderr",
     "output_type": "stream",
     "text": [
      " 14%|█▎        | 47/346 [00:01<00:12, 24.47it/s]"
     ]
    },
    {
     "name": "stdout",
     "output_type": "stream",
     "text": [
      "Downloading Oval Invincibles from https://upload.wikimedia.org/wikipedia/en/thumb/9/96/Oval_Invincibles_logo.svg/220px-Oval_Invincibles_logo.svg.png file_type: png\n",
      "Downloading Leinster Lightning from https://upload.wikimedia.org/wikipedia/en/thumb/d/d8/Leinster_Lightning_logo.png/200px-Leinster_Lightning_logo.png file_type: png\n"
     ]
    },
    {
     "name": "stderr",
     "output_type": "stream",
     "text": [
      " 15%|█▍        | 51/346 [00:02<00:22, 13.14it/s]"
     ]
    },
    {
     "name": "stdout",
     "output_type": "stream",
     "text": [
      "Downloading Central Stags from https://upload.wikimedia.org/wikipedia/en/thumb/9/91/Central_Stags_logo_transparent.png/130px-Central_Stags_logo_transparent.png file_type: png\n",
      "Downloading Cape Town Blitz from https://upload.wikimedia.org/wikipedia/en/thumb/3/36/Cape_Town_Blitz_logo.svg/150px-Cape_Town_Blitz_logo.svg.png file_type: png\n"
     ]
    },
    {
     "name": "stderr",
     "output_type": "stream",
     "text": [
      " 16%|█▌        | 54/346 [00:04<00:42,  6.87it/s]"
     ]
    },
    {
     "name": "stdout",
     "output_type": "stream",
     "text": [
      "Downloading Trinidad & Tobago Red Steel from https://upload.wikimedia.org/wikipedia/en/thumb/b/bf/Trinbago_Knight_Riders_logo.svg/200px-Trinbago_Knight_Riders_logo.svg.png file_type: png\n"
     ]
    },
    {
     "name": "stderr",
     "output_type": "stream",
     "text": [
      " 18%|█▊        | 61/346 [00:05<00:32,  8.68it/s]"
     ]
    },
    {
     "name": "stdout",
     "output_type": "stream",
     "text": [
      "Image not found for ICC World XI\n"
     ]
    },
    {
     "name": "stderr",
     "output_type": "stream",
     "text": [
      " 18%|█▊        | 63/346 [00:05<00:40,  7.04it/s]"
     ]
    },
    {
     "name": "stdout",
     "output_type": "stream",
     "text": [
      "Downloading Hobart Hurricanes from https://upload.wikimedia.org/wikipedia/en/thumb/c/c3/Hobart_Hurricanes_logo.svg/200px-Hobart_Hurricanes_logo.svg.png file_type: png\n"
     ]
    },
    {
     "name": "stderr",
     "output_type": "stream",
     "text": [
      " 21%|██        | 71/346 [00:06<00:31,  8.65it/s]"
     ]
    },
    {
     "name": "stdout",
     "output_type": "stream",
     "text": [
      "Downloading San Francisco Unicorns from https://upload.wikimedia.org/wikipedia/en/thumb/f/fc/San_Francisco_Unicorns_Logo.jpg/200px-San_Francisco_Unicorns_Logo.jpg file_type: jpg\n",
      "Downloading Otago from https://upload.wikimedia.org/wikipedia/commons/thumb/4/4c/Flag_of_Otago.svg/100px-Flag_of_Otago.svg.png file_type: png\n"
     ]
    },
    {
     "name": "stderr",
     "output_type": "stream",
     "text": [
      " 24%|██▍       | 84/346 [00:07<00:22, 11.48it/s]"
     ]
    },
    {
     "name": "stdout",
     "output_type": "stream",
     "text": [
      "Image not found for Impi\n",
      "Downloading Kandy Tuskers from https://upload.wikimedia.org/wikipedia/en/thumb/c/cc/Kandy_Falcons_logo.jpg/200px-Kandy_Falcons_logo.jpg file_type: jpg\n"
     ]
    },
    {
     "name": "stderr",
     "output_type": "stream",
     "text": [
      " 26%|██▌       | 89/346 [00:08<00:33,  7.56it/s]"
     ]
    },
    {
     "name": "stdout",
     "output_type": "stream",
     "text": [
      "Downloading UP Warriorz from https://upload.wikimedia.org/wikipedia/en/thumb/a/a2/UP_Warriorz_Logo.webp/200px-UP_Warriorz_Logo.webp.png file_type: png\n"
     ]
    },
    {
     "name": "stderr",
     "output_type": "stream",
     "text": [
      " 26%|██▌       | 90/346 [00:09<00:45,  5.68it/s]"
     ]
    },
    {
     "name": "stdout",
     "output_type": "stream",
     "text": [
      "Downloading Texas Super Kings from https://upload.wikimedia.org/wikipedia/en/thumb/2/23/Texas_Super_Kings_Logo.svg/200px-Texas_Super_Kings_Logo.svg.png file_type: png\n"
     ]
    },
    {
     "name": "stderr",
     "output_type": "stream",
     "text": [
      " 28%|██▊       | 97/346 [00:09<00:32,  7.66it/s]"
     ]
    },
    {
     "name": "stdout",
     "output_type": "stream",
     "text": [
      "Downloading Kandy Falcons from https://upload.wikimedia.org/wikipedia/en/thumb/c/cc/Kandy_Falcons_logo.jpg/200px-Kandy_Falcons_logo.jpg file_type: jpg\n"
     ]
    },
    {
     "name": "stderr",
     "output_type": "stream",
     "text": [
      " 29%|██▊       | 99/346 [00:10<00:33,  7.31it/s]"
     ]
    },
    {
     "name": "stdout",
     "output_type": "stream",
     "text": [
      "Image not found for Gujarat Giants\n"
     ]
    },
    {
     "name": "stderr",
     "output_type": "stream",
     "text": [
      " 29%|██▉       | 102/346 [00:10<00:41,  5.90it/s]"
     ]
    },
    {
     "name": "stdout",
     "output_type": "stream",
     "text": [
      "Downloading Melbourne Stars from https://upload.wikimedia.org/wikipedia/en/thumb/7/74/Melbourne_Stars_logo.svg/200px-Melbourne_Stars_logo.svg.png file_type: png\n"
     ]
    },
    {
     "name": "stderr",
     "output_type": "stream",
     "text": [
      " 30%|███       | 104/346 [00:11<00:46,  5.24it/s]"
     ]
    },
    {
     "name": "stdout",
     "output_type": "stream",
     "text": [
      "Downloading Paarl Rocks from https://upload.wikimedia.org/wikipedia/en/thumb/e/e8/Paarl_Rocks_logo.png/200px-Paarl_Rocks_logo.png file_type: png\n"
     ]
    },
    {
     "name": "stderr",
     "output_type": "stream",
     "text": [
      " 31%|███       | 106/346 [00:11<00:44,  5.42it/s]"
     ]
    },
    {
     "name": "stdout",
     "output_type": "stream",
     "text": [
      "Image not found for Antigua Hawksbills\n",
      "Downloading Surrey Stars from https://upload.wikimedia.org/wikipedia/en/thumb/9/9c/Surrey_Stars_logo.png/200px-Surrey_Stars_logo.png file_type: png\n"
     ]
    },
    {
     "name": "stderr",
     "output_type": "stream",
     "text": [
      " 34%|███▍      | 119/346 [00:12<00:22, 10.26it/s]"
     ]
    },
    {
     "name": "stdout",
     "output_type": "stream",
     "text": [
      "Image not found for Northern Knights\n"
     ]
    },
    {
     "name": "stderr",
     "output_type": "stream",
     "text": [
      " 35%|███▍      | 121/346 [00:13<00:33,  6.67it/s]"
     ]
    },
    {
     "name": "stdout",
     "output_type": "stream",
     "text": [
      "Downloading Kandy Warriors from https://upload.wikimedia.org/wikipedia/en/thumb/c/cc/Kandy_Falcons_logo.jpg/200px-Kandy_Falcons_logo.jpg file_type: jpg\n",
      "Downloading Worcestershire from https://upload.wikimedia.org/wikipedia/commons/thumb/6/6e/Worcestershire_flag.svg/220px-Worcestershire_flag.svg.png file_type: png\n"
     ]
    },
    {
     "name": "stderr",
     "output_type": "stream",
     "text": [
      " 36%|███▌      | 124/346 [00:14<00:38,  5.79it/s]"
     ]
    },
    {
     "name": "stdout",
     "output_type": "stream",
     "text": [
      "Downloading Gulf Giants from https://upload.wikimedia.org/wikipedia/en/thumb/8/8a/Gulf_Giants_Logo.svg/200px-Gulf_Giants_Logo.svg.png file_type: png\n"
     ]
    },
    {
     "name": "stderr",
     "output_type": "stream",
     "text": [
      " 42%|████▏     | 147/346 [00:15<00:18, 10.95it/s]"
     ]
    },
    {
     "name": "stdout",
     "output_type": "stream",
     "text": [
      "Downloading Northern Districts from https://upload.wikimedia.org/wikipedia/en/thumb/d/d6/Northern_Brave_women%27s_cricket_logo.png/180px-Northern_Brave_women%27s_cricket_logo.png file_type: png\n"
     ]
    },
    {
     "name": "stderr",
     "output_type": "stream",
     "text": [
      " 44%|████▍     | 153/346 [00:15<00:15, 12.73it/s]"
     ]
    },
    {
     "name": "stdout",
     "output_type": "stream",
     "text": [
      "Image not found for Durham\n",
      "Downloading Manchester Originals from https://upload.wikimedia.org/wikipedia/en/thumb/4/49/Manchester_Originals_logo.svg/220px-Manchester_Originals_logo.svg.png file_type: png\n"
     ]
    },
    {
     "name": "stderr",
     "output_type": "stream",
     "text": [
      " 46%|████▌     | 159/346 [00:17<00:25,  7.43it/s]"
     ]
    },
    {
     "name": "stdout",
     "output_type": "stream",
     "text": [
      "Downloading Sydney Sixers from https://upload.wikimedia.org/wikipedia/en/thumb/9/95/Sydney_Sixers_logo.svg/200px-Sydney_Sixers_logo.svg.png file_type: png\n",
      "Downloading Wellington Firebirds from https://upload.wikimedia.org/wikipedia/en/thumb/1/13/Wellington_Firebirds_logo.png/150px-Wellington_Firebirds_logo.png file_type: png\n"
     ]
    },
    {
     "name": "stderr",
     "output_type": "stream",
     "text": [
      " 46%|████▌     | 160/346 [00:18<00:33,  5.63it/s]"
     ]
    },
    {
     "name": "stdout",
     "output_type": "stream",
     "text": [
      "Downloading Auckland Aces from https://upload.wikimedia.org/wikipedia/en/thumb/b/ba/Auckland_Aces_logo.svg/150px-Auckland_Aces_logo.svg.png file_type: png\n"
     ]
    },
    {
     "name": "stderr",
     "output_type": "stream",
     "text": [
      " 47%|████▋     | 162/346 [00:19<00:49,  3.71it/s]"
     ]
    },
    {
     "name": "stdout",
     "output_type": "stream",
     "text": [
      "Image not found for Warriors\n",
      "Downloading Lancashire Thunder from https://upload.wikimedia.org/wikipedia/en/thumb/9/9c/Lancashire_Thunder_logo.png/200px-Lancashire_Thunder_logo.png file_type: png\n"
     ]
    },
    {
     "name": "stderr",
     "output_type": "stream",
     "text": [
      " 48%|████▊     | 167/346 [00:20<00:45,  3.96it/s]"
     ]
    },
    {
     "name": "stdout",
     "output_type": "stream",
     "text": [
      "Downloading London Spirit from https://upload.wikimedia.org/wikipedia/en/thumb/6/65/London_Spirit_logo.svg/200px-London_Spirit_logo.svg.png file_type: png\n"
     ]
    },
    {
     "name": "stderr",
     "output_type": "stream",
     "text": [
      " 49%|████▉     | 169/346 [00:21<00:56,  3.16it/s]"
     ]
    },
    {
     "name": "stdout",
     "output_type": "stream",
     "text": [
      "Downloading New South Wales from https://upload.wikimedia.org/wikipedia/commons/thumb/0/00/Flag_of_New_South_Wales.svg/130px-Flag_of_New_South_Wales.svg.png file_type: png\n",
      "Downloading Northamptonshire from https://upload.wikimedia.org/wikipedia/commons/thumb/3/35/Flag_of_Northamptonshire.svg/220px-Flag_of_Northamptonshire.svg.png file_type: png\n"
     ]
    },
    {
     "name": "stderr",
     "output_type": "stream",
     "text": [
      " 49%|████▉     | 170/346 [00:22<01:07,  2.60it/s]"
     ]
    },
    {
     "name": "stdout",
     "output_type": "stream",
     "text": [
      "Downloading Paarl Royals from https://upload.wikimedia.org/wikipedia/en/thumb/3/3e/Paarl_Royals_logo.svg/200px-Paarl_Royals_logo.svg.png file_type: png\n"
     ]
    },
    {
     "name": "stderr",
     "output_type": "stream",
     "text": [
      " 53%|█████▎    | 183/346 [00:22<00:22,  7.20it/s]"
     ]
    },
    {
     "name": "stdout",
     "output_type": "stream",
     "text": [
      "Downloading St Lucia Stars from https://upload.wikimedia.org/wikipedia/en/thumb/7/77/Saint_Lucia_Kings_svg_logo.svg/200px-Saint_Lucia_Kings_svg_logo.svg.png file_type: png\n"
     ]
    },
    {
     "name": "stderr",
     "output_type": "stream",
     "text": [
      " 55%|█████▌    | 191/346 [00:24<00:21,  7.25it/s]"
     ]
    },
    {
     "name": "stdout",
     "output_type": "stream",
     "text": [
      "Downloading Yorkshire Diamonds from https://upload.wikimedia.org/wikipedia/en/thumb/7/7b/YorkshireDiamondsLogo.svg/220px-YorkshireDiamondsLogo.svg.png file_type: png\n",
      "Downloading MI Cape Town from https://upload.wikimedia.org/wikipedia/en/thumb/4/4e/MI_Cape_Town_Logo.webp/200px-MI_Cape_Town_Logo.webp.png file_type: png\n"
     ]
    },
    {
     "name": "stderr",
     "output_type": "stream",
     "text": [
      " 57%|█████▋    | 197/346 [00:25<00:25,  5.76it/s]"
     ]
    },
    {
     "name": "stdout",
     "output_type": "stream",
     "text": [
      "Downloading Central Sparks from https://upload.wikimedia.org/wikipedia/en/thumb/4/45/Central_Sparks_logo.jpg/200px-Central_Sparks_logo.jpg file_type: jpg\n"
     ]
    },
    {
     "name": "stderr",
     "output_type": "stream",
     "text": [
      " 58%|█████▊    | 201/346 [00:26<00:24,  5.87it/s]"
     ]
    },
    {
     "name": "stdout",
     "output_type": "stream",
     "text": [
      "Downloading Barbados Royals from https://upload.wikimedia.org/wikipedia/en/thumb/2/2e/Barbados_Royals_Pink_Logo.svg/200px-Barbados_Royals_Pink_Logo.svg.png file_type: png\n",
      "Downloading Wellington from https://upload.wikimedia.org/wikipedia/commons/thumb/0/0d/Flag_of_Wellington_City%2C_New_Zealand.svg/100px-Flag_of_Wellington_City%2C_New_Zealand.svg.png file_type: png\n"
     ]
    },
    {
     "name": "stderr",
     "output_type": "stream",
     "text": [
      " 59%|█████▉    | 205/346 [00:27<00:30,  4.69it/s]"
     ]
    },
    {
     "name": "stdout",
     "output_type": "stream",
     "text": [
      "Downloading Sunrisers Eastern Cape from https://upload.wikimedia.org/wikipedia/en/thumb/c/cc/Sunrisers_Eastern_Cape_logo.webp/200px-Sunrisers_Eastern_Cape_logo.webp.png file_type: png\n"
     ]
    },
    {
     "name": "stderr",
     "output_type": "stream",
     "text": [
      " 60%|█████▉    | 207/346 [00:28<00:33,  4.13it/s]"
     ]
    },
    {
     "name": "stdout",
     "output_type": "stream",
     "text": [
      "Downloading Peshawar Zalmi from https://upload.wikimedia.org/wikipedia/en/thumb/9/9c/Peshawar_Zalmi_logo.png/200px-Peshawar_Zalmi_logo.png file_type: png\n"
     ]
    },
    {
     "name": "stderr",
     "output_type": "stream",
     "text": [
      " 61%|██████    | 210/346 [00:28<00:32,  4.14it/s]"
     ]
    },
    {
     "name": "stdout",
     "output_type": "stream",
     "text": [
      "Downloading Munster Reds from https://upload.wikimedia.org/wikipedia/en/thumb/4/47/Munster_Reds_logo.png/200px-Munster_Reds_logo.png file_type: png\n"
     ]
    },
    {
     "name": "stderr",
     "output_type": "stream",
     "text": [
      " 62%|██████▏   | 213/346 [00:29<00:30,  4.42it/s]"
     ]
    },
    {
     "name": "stdout",
     "output_type": "stream",
     "text": [
      "Downloading Birmingham Bears from https://upload.wikimedia.org/wikipedia/commons/f/f1/Birmingham_Bears_%28logo%29.jpg file_type: jpg\n"
     ]
    },
    {
     "name": "stderr",
     "output_type": "stream",
     "text": [
      " 62%|██████▏   | 216/346 [00:30<00:27,  4.69it/s]"
     ]
    },
    {
     "name": "stdout",
     "output_type": "stream",
     "text": [
      "Downloading St Lucia Zouks from https://upload.wikimedia.org/wikipedia/en/thumb/7/77/Saint_Lucia_Kings_svg_logo.svg/200px-Saint_Lucia_Kings_svg_logo.svg.png file_type: png\n"
     ]
    },
    {
     "name": "stderr",
     "output_type": "stream",
     "text": [
      " 64%|██████▍   | 223/346 [00:30<00:18,  6.59it/s]"
     ]
    },
    {
     "name": "stdout",
     "output_type": "stream",
     "text": [
      "Downloading Sharjah Warriors from https://upload.wikimedia.org/wikipedia/en/thumb/5/57/Sharjah_Warriors_Logo.png/200px-Sharjah_Warriors_Logo.png file_type: png\n"
     ]
    },
    {
     "name": "stderr",
     "output_type": "stream",
     "text": [
      " 70%|██████▉   | 242/346 [00:31<00:07, 13.62it/s]"
     ]
    },
    {
     "name": "stdout",
     "output_type": "stream",
     "text": [
      "Image not found for Sunrisers\n",
      "Downloading Yorkshire from https://upload.wikimedia.org/wikipedia/commons/thumb/d/db/Flag_of_Yorkshire.svg/125px-Flag_of_Yorkshire.svg.png file_type: png\n"
     ]
    },
    {
     "name": "stderr",
     "output_type": "stream",
     "text": [
      " 72%|███████▏  | 248/346 [00:33<00:14,  6.66it/s]"
     ]
    },
    {
     "name": "stdout",
     "output_type": "stream",
     "text": [
      "Downloading Sussex from https://upload.wikimedia.org/wikipedia/commons/thumb/9/9d/Flag_of_Sussex.svg/125px-Flag_of_Sussex.svg.png file_type: png\n"
     ]
    },
    {
     "name": "stderr",
     "output_type": "stream",
     "text": [
      " 73%|███████▎  | 253/346 [00:34<00:14,  6.49it/s]"
     ]
    },
    {
     "name": "stdout",
     "output_type": "stream",
     "text": [
      "Downloading Southern Vipers from https://upload.wikimedia.org/wikipedia/en/thumb/e/ec/Southern_Vipers_logo.jpg/200px-Southern_Vipers_logo.jpg file_type: jpg\n",
      "Downloading Perth Scorchers from https://upload.wikimedia.org/wikipedia/en/thumb/1/15/Perth_Scorchers_logo.svg/200px-Perth_Scorchers_logo.svg.png file_type: png\n"
     ]
    },
    {
     "name": "stderr",
     "output_type": "stream",
     "text": [
      " 75%|███████▌  | 261/346 [00:34<00:10,  8.09it/s]"
     ]
    },
    {
     "name": "stdout",
     "output_type": "stream",
     "text": [
      "Downloading Western Storm from https://upload.wikimedia.org/wikipedia/en/thumb/4/47/Western_Storm_logo.png/200px-Western_Storm_logo.png file_type: png\n"
     ]
    },
    {
     "name": "stderr",
     "output_type": "stream",
     "text": [
      " 78%|███████▊  | 270/346 [00:36<00:10,  6.99it/s]"
     ]
    },
    {
     "name": "stdout",
     "output_type": "stream",
     "text": [
      "Downloading Melbourne Renegades from https://upload.wikimedia.org/wikipedia/en/thumb/6/63/Melbourne_Renegades_Logo.svg/200px-Melbourne_Renegades_Logo.svg.png file_type: png\n",
      "Downloading Barbados Tridents from https://upload.wikimedia.org/wikipedia/en/thumb/2/2e/Barbados_Royals_Pink_Logo.svg/200px-Barbados_Royals_Pink_Logo.svg.png file_type: png\n"
     ]
    },
    {
     "name": "stderr",
     "output_type": "stream",
     "text": [
      " 81%|████████  | 281/346 [00:37<00:09,  6.91it/s]"
     ]
    },
    {
     "name": "stdout",
     "output_type": "stream",
     "text": [
      "Downloading Pune Warriors from https://upload.wikimedia.org/wikipedia/en/thumb/4/4a/Pune_Warriors_India_IPL_Logo.png/200px-Pune_Warriors_India_IPL_Logo.png file_type: png\n",
      "Downloading St Lucia Kings from https://upload.wikimedia.org/wikipedia/en/thumb/7/77/Saint_Lucia_Kings_svg_logo.svg/200px-Saint_Lucia_Kings_svg_logo.svg.png file_type: png\n"
     ]
    },
    {
     "name": "stderr",
     "output_type": "stream",
     "text": [
      " 84%|████████▍ | 290/346 [00:39<00:07,  7.41it/s]"
     ]
    },
    {
     "name": "stdout",
     "output_type": "stream",
     "text": [
      "Downloading Tshwane Spartans from https://upload.wikimedia.org/wikipedia/en/thumb/f/f6/Tshwane_Spartans_logo.svg/150px-Tshwane_Spartans_logo.svg.png file_type: png\n"
     ]
    },
    {
     "name": "stderr",
     "output_type": "stream",
     "text": [
      " 85%|████████▌ | 295/346 [00:40<00:07,  6.57it/s]"
     ]
    },
    {
     "name": "stdout",
     "output_type": "stream",
     "text": [
      "Downloading Somerset from https://upload.wikimedia.org/wikipedia/commons/thumb/4/49/Somerset_Flag.svg/220px-Somerset_Flag.svg.png file_type: png\n"
     ]
    },
    {
     "name": "stderr",
     "output_type": "stream",
     "text": [
      " 86%|████████▋ | 299/346 [00:40<00:06,  6.90it/s]"
     ]
    },
    {
     "name": "stdout",
     "output_type": "stream",
     "text": [
      "Image not found for Barmy Army\n",
      "Downloading Durban Heat from https://upload.wikimedia.org/wikipedia/en/thumb/3/3e/Durban_Heat_logo.svg/200px-Durban_Heat_logo.svg.png file_type: png\n"
     ]
    },
    {
     "name": "stderr",
     "output_type": "stream",
     "text": [
      " 89%|████████▊ | 307/346 [00:41<00:05,  6.89it/s]"
     ]
    },
    {
     "name": "stdout",
     "output_type": "stream",
     "text": [
      "Downloading Jozi Stars from https://upload.wikimedia.org/wikipedia/en/thumb/7/7e/Jozi_Stars_logo.svg/150px-Jozi_Stars_logo.svg.png file_type: png\n",
      "Downloading Birmingham Phoenix from https://upload.wikimedia.org/wikipedia/en/thumb/d/d1/Birmingham_Phoenix_logo.svg/200px-Birmingham_Phoenix_logo.svg.png file_type: png\n"
     ]
    },
    {
     "name": "stderr",
     "output_type": "stream",
     "text": [
      " 90%|████████▉ | 310/346 [00:42<00:05,  6.10it/s]"
     ]
    },
    {
     "name": "stdout",
     "output_type": "stream",
     "text": [
      "Downloading Central Districts from https://upload.wikimedia.org/wikipedia/en/thumb/9/91/Central_Stags_logo_transparent.png/130px-Central_Stags_logo_transparent.png file_type: png\n"
     ]
    },
    {
     "name": "stderr",
     "output_type": "stream",
     "text": [
      " 92%|█████████▏| 319/346 [00:43<00:03,  7.10it/s]"
     ]
    },
    {
     "name": "stdout",
     "output_type": "stream",
     "text": [
      "Downloading Los Angeles Knight Riders from https://upload.wikimedia.org/wikipedia/en/thumb/e/e0/Los_Angeles_Knight_Riders_logo.png/200px-Los_Angeles_Knight_Riders_logo.png file_type: png\n"
     ]
    },
    {
     "name": "stderr",
     "output_type": "stream",
     "text": [
      " 94%|█████████▍| 326/346 [00:43<00:02,  9.53it/s]"
     ]
    },
    {
     "name": "stdout",
     "output_type": "stream",
     "text": [
      "Image not found for Washington Freedom\n"
     ]
    },
    {
     "name": "stderr",
     "output_type": "stream",
     "text": [
      " 98%|█████████▊| 338/346 [00:44<00:00, 12.85it/s]"
     ]
    },
    {
     "name": "stdout",
     "output_type": "stream",
     "text": [
      "Downloading B-Love Kandy from https://upload.wikimedia.org/wikipedia/en/thumb/c/cc/Kandy_Falcons_logo.jpg/200px-Kandy_Falcons_logo.jpg file_type: jpg\n",
      "Downloading Nelson Mandela Bay Giants from https://upload.wikimedia.org/wikipedia/en/thumb/5/5a/Nelson_Mandela_Bay_Giants_logo.svg/200px-Nelson_Mandela_Bay_Giants_logo.svg.png file_type: png\n"
     ]
    },
    {
     "name": "stderr",
     "output_type": "stream",
     "text": [
      " 99%|█████████▉| 342/346 [00:46<00:00,  6.23it/s]"
     ]
    },
    {
     "name": "stdout",
     "output_type": "stream",
     "text": [
      "Downloading South East Stars from https://upload.wikimedia.org/wikipedia/en/thumb/3/33/South_East_Stars_logo.jpg/200px-South_East_Stars_logo.jpg file_type: jpg\n"
     ]
    },
    {
     "name": "stderr",
     "output_type": "stream",
     "text": [
      " 99%|█████████▉| 343/346 [00:46<00:00,  5.70it/s]"
     ]
    },
    {
     "name": "stdout",
     "output_type": "stream",
     "text": [
      "Image not found for Loughborough Lightning\n",
      "Downloading Middlesex from https://upload.wikimedia.org/wikipedia/commons/thumb/2/2a/Flag_of_Middlesex.svg/150px-Flag_of_Middlesex.svg.png file_type: png\n"
     ]
    },
    {
     "name": "stderr",
     "output_type": "stream",
     "text": [
      "100%|██████████| 346/346 [00:47<00:00,  7.27it/s]\n"
     ]
    }
   ],
   "source": [
    "not_found = []\n",
    "d = {}\n",
    "logos = os.listdir('../data/raw/additional_data/logo/')\n",
    "for team in tqdm.tqdm(unique_names):\n",
    "    if team + '.png' in logos or team + '.jpg' in logos:\n",
    "        continue\n",
    "    soup = get_page(url + team)\n",
    "    images = get_images(soup)\n",
    "    found = False\n",
    "    for i in images:\n",
    "        if (i.find('logo') != -1 or  i.find('Logo') != -1 or i.find('flag') != -1  or i.find('Flag') != -1):\n",
    "            found = True\n",
    "            # download the image\n",
    "            if i.startswith('//'):\n",
    "                i = 'https:' + i\n",
    "            d[team] = i\n",
    "            if i.find('jpg') != -1:\n",
    "                save_image(i, team, 'jpg')\n",
    "            elif i.find('png') != -1:\n",
    "                save_image(i, team, 'png')\n",
    "            break\n",
    "\n",
    "    if not found:\n",
    "        print('Image not found for', team)\n",
    "        not_found.append(team)"
   ]
  },
  {
   "cell_type": "code",
   "execution_count": 33,
   "metadata": {},
   "outputs": [
    {
     "name": "stdout",
     "output_type": "stream",
     "text": [
      "Boland\n",
      "ICC World XI\n",
      "Impi\n",
      "Gujarat Giants\n",
      "Antigua Hawksbills\n",
      "Northern Knights\n",
      "Durham\n",
      "Warriors\n",
      "Sunrisers\n",
      "Barmy Army\n",
      "Washington Freedom\n",
      "Loughborough Lightning\n"
     ]
    }
   ],
   "source": [
    "for i in not_found:\n",
    "    print(i)"
   ]
  },
  {
   "cell_type": "code",
   "execution_count": 36,
   "metadata": {},
   "outputs": [
    {
     "name": "stdout",
     "output_type": "stream",
     "text": [
      "Found image for New Zealand at https://upload.wikimedia.org/wikipedia/commons/thumb/3/3e/Flag_of_New_Zealand.svg/125px-Flag_of_New_Zealand.svg.png\n"
     ]
    }
   ],
   "source": [
    "team = 'New Zealand'\n",
    "soup = get_page(url + team)\n",
    "images = get_images(soup)\n",
    "found = False\n",
    "for i in images:\n",
    "    if (i.find('logo') != -1 or  i.find('Logo') != -1 or i.find('flag') != -1  or i.find('Flag') != -1):\n",
    "        found = True\n",
    "        # download the image\n",
    "        if i.startswith('//'):\n",
    "            i = 'https:' + i\n",
    "        print('Found image for', team, 'at', i)\n",
    "        if i.find('jpg') != -1:\n",
    "            save_image(i, team, 'jpg')\n",
    "        elif i.find('png') != -1:\n",
    "            save_image(i, team, 'png')\n",
    "        break"
   ]
  }
 ],
 "metadata": {
  "kernelspec": {
   "display_name": "Python 3",
   "language": "python",
   "name": "python3"
  },
  "language_info": {
   "codemirror_mode": {
    "name": "ipython",
    "version": 3
   },
   "file_extension": ".py",
   "mimetype": "text/x-python",
   "name": "python",
   "nbconvert_exporter": "python",
   "pygments_lexer": "ipython3",
   "version": "3.12.7"
  }
 },
 "nbformat": 4,
 "nbformat_minor": 2
}
