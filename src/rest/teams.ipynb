{
 "cells": [
  {
   "cell_type": "code",
   "execution_count": 1,
   "metadata": {},
   "outputs": [
    {
     "data": {
      "text/html": [
       "<div>\n",
       "<style scoped>\n",
       "    .dataframe tbody tr th:only-of-type {\n",
       "        vertical-align: middle;\n",
       "    }\n",
       "\n",
       "    .dataframe tbody tr th {\n",
       "        vertical-align: top;\n",
       "    }\n",
       "\n",
       "    .dataframe thead th {\n",
       "        text-align: right;\n",
       "    }\n",
       "</style>\n",
       "<table border=\"1\" class=\"dataframe\">\n",
       "  <thead>\n",
       "    <tr style=\"text-align: right;\">\n",
       "      <th></th>\n",
       "      <th>date</th>\n",
       "      <th>type</th>\n",
       "      <th>format</th>\n",
       "      <th>gender</th>\n",
       "      <th>match_id</th>\n",
       "      <th>teams</th>\n",
       "    </tr>\n",
       "  </thead>\n",
       "  <tbody>\n",
       "    <tr>\n",
       "      <th>0</th>\n",
       "      <td>2024-11-10</td>\n",
       "      <td>international</td>\n",
       "      <td>T20</td>\n",
       "      <td>male</td>\n",
       "      <td>1456442</td>\n",
       "      <td>New Zealand vs Sri Lanka</td>\n",
       "    </tr>\n",
       "    <tr>\n",
       "      <th>1</th>\n",
       "      <td>2024-11-10</td>\n",
       "      <td>international</td>\n",
       "      <td>T20</td>\n",
       "      <td>male</td>\n",
       "      <td>1449302</td>\n",
       "      <td>India vs South Africa</td>\n",
       "    </tr>\n",
       "    <tr>\n",
       "      <th>2</th>\n",
       "      <td>2024-11-10</td>\n",
       "      <td>international</td>\n",
       "      <td>T20</td>\n",
       "      <td>male</td>\n",
       "      <td>1433374</td>\n",
       "      <td>West Indies vs England</td>\n",
       "    </tr>\n",
       "    <tr>\n",
       "      <th>3</th>\n",
       "      <td>2024-11-10</td>\n",
       "      <td>international</td>\n",
       "      <td>T20</td>\n",
       "      <td>female</td>\n",
       "      <td>1456865</td>\n",
       "      <td>China vs Hong Kong</td>\n",
       "    </tr>\n",
       "    <tr>\n",
       "      <th>4</th>\n",
       "      <td>2024-11-10</td>\n",
       "      <td>international</td>\n",
       "      <td>T20</td>\n",
       "      <td>female</td>\n",
       "      <td>1456864</td>\n",
       "      <td>Mongolia vs Myanmar</td>\n",
       "    </tr>\n",
       "    <tr>\n",
       "      <th>...</th>\n",
       "      <td>...</td>\n",
       "      <td>...</td>\n",
       "      <td>...</td>\n",
       "      <td>...</td>\n",
       "      <td>...</td>\n",
       "      <td>...</td>\n",
       "    </tr>\n",
       "    <tr>\n",
       "      <th>17824</th>\n",
       "      <td>2003-01-01</td>\n",
       "      <td>international</td>\n",
       "      <td>ODI</td>\n",
       "      <td>male</td>\n",
       "      <td>64815</td>\n",
       "      <td>India vs New Zealand</td>\n",
       "    </tr>\n",
       "    <tr>\n",
       "      <th>17825</th>\n",
       "      <td>2002-12-29</td>\n",
       "      <td>international</td>\n",
       "      <td>ODI</td>\n",
       "      <td>male</td>\n",
       "      <td>64814</td>\n",
       "      <td>New Zealand vs India</td>\n",
       "    </tr>\n",
       "    <tr>\n",
       "      <th>17826</th>\n",
       "      <td>2002-12-26</td>\n",
       "      <td>international</td>\n",
       "      <td>Test</td>\n",
       "      <td>male</td>\n",
       "      <td>64022</td>\n",
       "      <td>South Africa vs Pakistan</td>\n",
       "    </tr>\n",
       "    <tr>\n",
       "      <th>17827</th>\n",
       "      <td>2002-12-26</td>\n",
       "      <td>international</td>\n",
       "      <td>Test</td>\n",
       "      <td>male</td>\n",
       "      <td>64012</td>\n",
       "      <td>Australia vs England</td>\n",
       "    </tr>\n",
       "    <tr>\n",
       "      <th>17828</th>\n",
       "      <td>2001-12-19</td>\n",
       "      <td>international</td>\n",
       "      <td>Test</td>\n",
       "      <td>male</td>\n",
       "      <td>63963</td>\n",
       "      <td>England vs India</td>\n",
       "    </tr>\n",
       "  </tbody>\n",
       "</table>\n",
       "<p>17829 rows × 6 columns</p>\n",
       "</div>"
      ],
      "text/plain": [
       "             date           type format  gender match_id  \\\n",
       "0      2024-11-10  international    T20    male  1456442   \n",
       "1      2024-11-10  international    T20    male  1449302   \n",
       "2      2024-11-10  international    T20    male  1433374   \n",
       "3      2024-11-10  international    T20  female  1456865   \n",
       "4      2024-11-10  international    T20  female  1456864   \n",
       "...           ...            ...    ...     ...      ...   \n",
       "17824  2003-01-01  international    ODI    male    64815   \n",
       "17825  2002-12-29  international    ODI    male    64814   \n",
       "17826  2002-12-26  international   Test    male    64022   \n",
       "17827  2002-12-26  international   Test    male    64012   \n",
       "17828  2001-12-19  international   Test    male    63963   \n",
       "\n",
       "                          teams  \n",
       "0      New Zealand vs Sri Lanka  \n",
       "1         India vs South Africa  \n",
       "2        West Indies vs England  \n",
       "3            China vs Hong Kong  \n",
       "4           Mongolia vs Myanmar  \n",
       "...                         ...  \n",
       "17824      India vs New Zealand  \n",
       "17825      New Zealand vs India  \n",
       "17826  South Africa vs Pakistan  \n",
       "17827      Australia vs England  \n",
       "17828          England vs India  \n",
       "\n",
       "[17829 rows x 6 columns]"
      ]
     },
     "execution_count": 1,
     "metadata": {},
     "output_type": "execute_result"
    }
   ],
   "source": [
    "import pandas as pd\n",
    "\n",
    "matches = pd.read_csv('../data/interim/matches_info.csv')\n",
    "matches"
   ]
  },
  {
   "cell_type": "code",
   "execution_count": 5,
   "metadata": {},
   "outputs": [
    {
     "name": "stderr",
     "output_type": "stream",
     "text": [
      " 65%|██████▍   | 11620/17923 [05:08<04:40, 22.46it/s]"
     ]
    },
    {
     "name": "stdout",
     "output_type": "stream",
     "text": [
      "README.txt\n"
     ]
    },
    {
     "name": "stderr",
     "output_type": "stream",
     "text": [
      "100%|██████████| 17923/17923 [08:02<00:00, 37.12it/s]\n"
     ]
    },
    {
     "data": {
      "text/plain": [
       "({'IT20', 'MDM', 'ODI', 'ODM', 'T20', 'Test'}, 6)"
      ]
     },
     "execution_count": 5,
     "metadata": {},
     "output_type": "execute_result"
    }
   ],
   "source": [
    "import os\n",
    "import json\n",
    "import tqdm\n",
    "files = os.listdir(\"../data/raw/cricksheet/data/all_json\")\n",
    "l = set()\n",
    "for file in tqdm.tqdm(files):\n",
    "    with open(f\"../data/raw/cricksheet/data/all_json/{file}\") as f:\n",
    "        try:\n",
    "            data = json.load(f)\n",
    "            l.add(data[\"info\"][\"match_type\"])\n",
    "        except:\n",
    "            print(file)\n",
    "l, len(l)"
   ]
  },
  {
   "cell_type": "code",
   "execution_count": 4,
   "metadata": {},
   "outputs": [
    {
     "data": {
      "text/plain": [
       "'T20'"
      ]
     },
     "execution_count": 4,
     "metadata": {},
     "output_type": "execute_result"
    }
   ],
   "source": [
    "with open(\"../data/raw/cricksheet/data/all_json/1442667.json\") as f:\n",
    "    data = json.load(f)\n",
    "    \n",
    "data[\"info\"][\"match_type\"]"
   ]
  }
 ],
 "metadata": {
  "kernelspec": {
   "display_name": "cricgenius-aerDI8SF-py3.10",
   "language": "python",
   "name": "python3"
  },
  "language_info": {
   "codemirror_mode": {
    "name": "ipython",
    "version": 3
   },
   "file_extension": ".py",
   "mimetype": "text/x-python",
   "name": "python",
   "nbconvert_exporter": "python",
   "pygments_lexer": "ipython3",
   "version": "3.10.12"
  }
 },
 "nbformat": 4,
 "nbformat_minor": 2
}
