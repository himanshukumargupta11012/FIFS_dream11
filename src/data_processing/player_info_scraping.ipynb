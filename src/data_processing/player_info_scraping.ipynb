{
 "cells": [
  {
   "cell_type": "markdown",
   "metadata": {},
   "source": [
    "## 44 rows dont have cricinfo 1, 2, 3.\n",
    "## no rows which have 1 null not not 2 null\n",
    "## 92 rows where 2 is not null but 3 is.\n",
    "## no rows where 3 is not null but 2 is\n",
    "## 16119 null-2\n",
    "## 16211 null-3"
   ]
  },
  {
   "cell_type": "code",
   "execution_count": 18,
   "metadata": {},
   "outputs": [],
   "source": [
    "import requests\n",
    "from bs4 import BeautifulSoup\n",
    "from concurrent.futures import ProcessPoolExecutor\n",
    "import pandas as pd\n",
    "from tqdm import tqdm\n",
    "\n",
    "all_players = pd.read_csv(\"../data/raw/cricsheet/people.csv\")\n",
    "\n",
    "all_players = all_players[~all_players[\"key_cricinfo\"].isna()]\n",
    "all_players.key_cricinfo = all_players.key_cricinfo.astype(\"Int64\")\n",
    "all_players[\"key_cricinfo_2\"] = all_players[\"key_cricinfo_2\"].astype(\"Int64\")\n",
    "\n",
    "\n",
    "url = 'https://www.espncricinfo.com/ci/content/player/{}.html'"
   ]
  },
  {
   "cell_type": "code",
   "execution_count": 19,
   "metadata": {},
   "outputs": [],
   "source": [
    "from requests_html import AsyncHTMLSession\n",
    "import asyncio\n",
    "import nest_asyncio\n",
    "nest_asyncio.apply()\n",
    "\n",
    "asession = AsyncHTMLSession()\n",
    "\n",
    "async def fetch_html(url, headers):\n",
    "    response = await asession.get(url, headers=headers)\n",
    "    await response.html.arender(timeout=20)  # async render\n",
    "    return response\n",
    "\n",
    "# helper to run async code inside Jupyter\n",
    "def run_async_fetch(url, headers):\n",
    "    return asyncio.get_event_loop().run_until_complete(fetch_html(url, headers))\n"
   ]
  },
  {
   "cell_type": "code",
   "execution_count": 22,
   "metadata": {},
   "outputs": [],
   "source": [
    "# get full name, Batting style, Bowling style, Playing role\n",
    "def get_data(paragraphs, data, id):\n",
    "    try:\n",
    "        p_index = [i for i, p in enumerate(paragraphs) if data in p.text][0]\n",
    "        res = paragraphs[p_index+1].text\n",
    "    except IndexError:\n",
    "        res = None\n",
    "    return res\n",
    "\n",
    "# make a new dataframe with the above data for each player along with Key_cricinfo column\n",
    "def process_row_data(row):\n",
    "    id = row['key_cricinfo']\n",
    "\n",
    "    # header = {\n",
    "    #     \"accept\": \"*/*\",\n",
    "    #     \"accept-encoding\": \"gzip, deflate, br\",\n",
    "    #     \"accept-language\": \"en-US,en;q=0.9\",\n",
    "    #     \"user-agent\": \"Mozilla/5.0 (Windows NT 10.0; Win64; x64) AppleWebKit/537.36 (KHTML, like Gecko) Chrome/131.0.0.0 Safari/537.36\",\n",
    "    # }\n",
    "\n",
    "    header = {\n",
    "        \"User-Agent\": \"Mozilla/5.0 (Windows NT 10.0; Win64; x64) AppleWebKit/537.36 \"\n",
    "                      \"(KHTML, like Gecko) Chrome/122.0.0.0 Safari/537.36\",\n",
    "        \"Accept\": \"text/html,application/xhtml+xml,application/xml;q=0.9,image/avif,image/webp,image/apng,*/*;q=0.8\",\n",
    "        \"Accept-Encoding\": \"gzip, deflate, br\",\n",
    "        \"Accept-Language\": \"en-US,en;q=0.9\",\n",
    "        \"Connection\": \"keep-alive\",\n",
    "        \"Referer\": \"https://www.google.com/\",\n",
    "        \"DNT\": \"1\",  # Do Not Track header\n",
    "        \"Upgrade-Insecure-Requests\": \"1\",\n",
    "    }\n",
    "    print(url.format(id))\n",
    "    response = run_async_fetch(url.format(id), headers=header)\n",
    "    if response.status_code != 200:\n",
    "        if response.status_code == 404:\n",
    "            id = row[\"key_cricinfo_2\"]\n",
    "            response = run_async_fetch(url.format(id), headers=header)\n",
    "            if response.status_code != 200:\n",
    "                print(\"Failed to fetch the webpage. Status code:\", response.status_code, \"for player ID:\", id, \"1\", row[\"identifier\"])\n",
    "                return [id, None, None]\n",
    "        \n",
    "        else:\n",
    "            print(\"Failed to fetch the webpage. Status code:\", response.status_code, \"for player ID:\", id, \"2\", row[\"identifier\"])\n",
    "            return [id, None, None]\n",
    "\n",
    "    soup = BeautifulSoup(response.text, 'html.parser')\n",
    "\n",
    "    paragraphs = soup.find_all('p')\n",
    "    \n",
    "    # full_name = get_data(paragraphs, 'Full Name', id)\n",
    "    # batting_style = get_data(paragraphs, 'Batting Style', id)\n",
    "    # bowling_style = get_data(paragraphs, 'Bowling Style' , id)\n",
    "    playing_role = get_data(paragraphs, 'Playing Role' , id)\n",
    "    names = soup.find_all(\"h1\", attrs={\"class\": \"ds-text-title-l ds-font-bold\"})\n",
    "    if len(names) != 1:\n",
    "        print(id, \"name is not 1\")\n",
    "    cricinfo_name = names[0]\n",
    "    return [id, playing_role]"
   ]
  },
  {
   "cell_type": "code",
   "execution_count": 23,
   "metadata": {},
   "outputs": [
    {
     "name": "stdout",
     "output_type": "stream",
     "text": [
      "https://www.espncricinfo.com/ci/content/player/772407.html\n"
     ]
    },
    {
     "name": "stderr",
     "output_type": "stream",
     "text": [
      "/home/ai21btech11012/miniconda3/envs/dream11/lib/python3.10/site-packages/pyppeteer/util.py:29: RuntimeWarning: coroutine 'fetch_html' was never awaited\n",
      "  gc.collect()\n",
      "RuntimeWarning: Enable tracemalloc to get the object allocation traceback\n"
     ]
    },
    {
     "name": "stdout",
     "output_type": "stream",
     "text": [
      "Failed to fetch the webpage. Status code: 403 for player ID: 772407 2 b4a23876\n",
      "[np.int64(772407), None, None]\n"
     ]
    }
   ],
   "source": [
    "# with ProcessPoolExecutor(max_workers=1) as executor:\n",
    "#     result = list(tqdm(executor.map(process_row_data, [row for _, row in all_players.iloc[:, :].iterrows()]), total=len(all_players), desc=\"Processing data\"))\n",
    "\n",
    "print(process_row_data(all_players.iloc[0, :]))\n",
    "# print(result[:10])\n",
    "\n",
    "# pd.DataFrame(result).to_csv(\"player_roles.csv\", index=False)"
   ]
  },
  {
   "cell_type": "code",
   "execution_count": 33,
   "metadata": {},
   "outputs": [
    {
     "name": "stdout",
     "output_type": "stream",
     "text": [
      "<Response [403]>\n",
      "❌ Failed for 772407 with status code 403\n",
      "<HTML><HEAD>\n",
      "<TITLE>Access Denied</TITLE>\n",
      "</HEAD><BODY>\n",
      "<H1>Access Denied</H1>\n",
      " \n",
      "You don't have permission to access \"http&#58;&#47;&#47;www&#46;espncricinfo&#46;com&#47;ci&#47;content&#47;player&#47;772407&#46;html\" on this server.<P>\n",
      "Reference&#32;&#35;18&#46;5f6e3f17&#46;1744463232&#46;fa4b3e7\n",
      "<P>https&#58;&#47;&#47;errors&#46;edgesuite&#46;net&#47;18&#46;5f6e3f17&#46;1744463232&#46;fa4b3e7</P>\n",
      "</BODY>\n",
      "</HTML>\n",
      "\n",
      "Name: None\n",
      "Role: None\n"
     ]
    }
   ],
   "source": [
    "import requests\n",
    "from bs4 import BeautifulSoup\n",
    "\n",
    "def fetch_player_info(player_id):\n",
    "    url = f\"https://www.espncricinfo.com/ci/content/player/{player_id}.html\"\n",
    "    \n",
    "    headers = {\n",
    "        \"Accept\": \"text/html,application/xhtml+xml,application/xml;q=0.9,image/avif,image/webp,image/apng,*/*;q=0.8,application/signed-exchange;v=b3;q=0.7\",\n",
    "        \"Accept-Encoding\": \"gzip, deflate, br, zstd\",\n",
    "        \"Accept-Language\": \"en-US,en;q=0.9\",\n",
    "        \"Cache-Control\": \"max-age=0\",\n",
    "        \"Sec-Ch-Ua\": '\"Chromium\";v=\"122\", \"Not(A:Brand\";v=\"24\", \"Google Chrome\";v=\"122\"',\n",
    "        \"Sec-Ch-Ua-Mobile\": \"?0\",\n",
    "        \"Sec-Ch-Ua-Platform\": '\"Windows\"',\n",
    "        \"Sec-Fetch-Dest\": \"document\",\n",
    "        \"Sec-Fetch-Mode\": \"navigate\",\n",
    "        \"Sec-Fetch-Site\": \"none\",\n",
    "        \"Sec-Fetch-User\": \"?1\",\n",
    "        \"Upgrade-Insecure-Requests\": \"1\",\n",
    "        \"User-Agent\": \"Mozilla/5.0 (Windows NT 10.0; Win64; x64) AppleWebKit/537.36 (KHTML, like Gecko) Chrome/122.0.0.0 Safari/537.36\",\n",
    "    }\n",
    "\n",
    "    response = requests.get(url, headers=headers)\n",
    "    print(response)\n",
    "\n",
    "    if response.status_code != 200:\n",
    "        print(f\"❌ Failed for {player_id} with status code {response.status_code}\")\n",
    "        print(response.text)  # Print response text for debugging\n",
    "        return None, None\n",
    "\n",
    "    soup = BeautifulSoup(response.text, 'html.parser')\n",
    "\n",
    "    # Player name\n",
    "    name_tag = soup.find(\"h1\", class_=\"ds-text-title-l ds-font-bold\")\n",
    "    player_name = name_tag.text.strip() if name_tag else None\n",
    "\n",
    "    # Player info paragraphs\n",
    "    paragraphs = soup.find_all(\"p\")\n",
    "    def get_data(label):\n",
    "        try:\n",
    "            idx = [i for i, p in enumerate(paragraphs) if label in p.text][0]\n",
    "            return paragraphs[idx+1].text.strip()\n",
    "        except:\n",
    "            return None\n",
    "\n",
    "    playing_role = get_data(\"Playing Role\")\n",
    "\n",
    "    return player_name, playing_role\n",
    "\n",
    "# Test the function\n",
    "name, role = fetch_player_info(772407)\n",
    "print(\"Name:\", name)\n",
    "print(\"Role:\", role)"
   ]
  },
  {
   "cell_type": "code",
   "execution_count": 1,
   "metadata": {},
   "outputs": [
    {
     "ename": "SessionNotCreatedException",
     "evalue": "Message: session not created: probably user data directory is already in use, please specify a unique value for --user-data-dir argument, or don't use --user-data-dir\nStacktrace:\n#0 0x56423cf93d0a <unknown>\n#1 0x56423ca445f0 <unknown>\n#2 0x56423ca7e0db <unknown>\n#3 0x56423ca79e2f <unknown>\n#4 0x56423cac9f9e <unknown>\n#5 0x56423cac94c6 <unknown>\n#6 0x56423cabb433 <unknown>\n#7 0x56423ca87ea3 <unknown>\n#8 0x56423ca88b01 <unknown>\n#9 0x56423cf58b5b <unknown>\n#10 0x56423cf5ca41 <unknown>\n#11 0x56423cf3fc52 <unknown>\n#12 0x56423cf5d5b4 <unknown>\n#13 0x56423cf23f0f <unknown>\n#14 0x56423cf81db8 <unknown>\n#15 0x56423cf81f96 <unknown>\n#16 0x56423cf92b56 <unknown>\n#17 0x7f2b741a6609 start_thread\n",
     "output_type": "error",
     "traceback": [
      "\u001b[0;31m---------------------------------------------------------------------------\u001b[0m",
      "\u001b[0;31mSessionNotCreatedException\u001b[0m                Traceback (most recent call last)",
      "Cell \u001b[0;32mIn[1], line 58\u001b[0m\n\u001b[1;32m     55\u001b[0m     \u001b[38;5;28;01mreturn\u001b[39;00m player_name, playing_role\n\u001b[1;32m     57\u001b[0m \u001b[38;5;66;03m# Test the function\u001b[39;00m\n\u001b[0;32m---> 58\u001b[0m name, role \u001b[38;5;241m=\u001b[39m \u001b[43mfetch_player_info\u001b[49m\u001b[43m(\u001b[49m\u001b[38;5;241;43m772407\u001b[39;49m\u001b[43m)\u001b[49m\n\u001b[1;32m     59\u001b[0m \u001b[38;5;28mprint\u001b[39m(\u001b[38;5;124m\"\u001b[39m\u001b[38;5;124mName:\u001b[39m\u001b[38;5;124m\"\u001b[39m, name)\n\u001b[1;32m     60\u001b[0m \u001b[38;5;28mprint\u001b[39m(\u001b[38;5;124m\"\u001b[39m\u001b[38;5;124mRole:\u001b[39m\u001b[38;5;124m\"\u001b[39m, role)\n",
      "Cell \u001b[0;32mIn[1], line 25\u001b[0m, in \u001b[0;36mfetch_player_info\u001b[0;34m(player_id)\u001b[0m\n\u001b[1;32m      8\u001b[0m url \u001b[38;5;241m=\u001b[39m \u001b[38;5;124mf\u001b[39m\u001b[38;5;124m\"\u001b[39m\u001b[38;5;124mhttps://www.espncricinfo.com/ci/content/player/\u001b[39m\u001b[38;5;132;01m{\u001b[39;00mplayer_id\u001b[38;5;132;01m}\u001b[39;00m\u001b[38;5;124m.html\u001b[39m\u001b[38;5;124m\"\u001b[39m\n\u001b[1;32m     10\u001b[0m headers \u001b[38;5;241m=\u001b[39m {\n\u001b[1;32m     11\u001b[0m     \u001b[38;5;124m\"\u001b[39m\u001b[38;5;124mAccept\u001b[39m\u001b[38;5;124m\"\u001b[39m: \u001b[38;5;124m\"\u001b[39m\u001b[38;5;124mtext/html,application/xhtml+xml,application/xml;q=0.9,image/avif,image/webp,image/apng,*/*;q=0.8,application/signed-exchange;v=b3;q=0.7\u001b[39m\u001b[38;5;124m\"\u001b[39m,\n\u001b[1;32m     12\u001b[0m     \u001b[38;5;124m\"\u001b[39m\u001b[38;5;124mAccept-Encoding\u001b[39m\u001b[38;5;124m\"\u001b[39m: \u001b[38;5;124m\"\u001b[39m\u001b[38;5;124mgzip, deflate, br, zstd\u001b[39m\u001b[38;5;124m\"\u001b[39m,\n\u001b[0;32m   (...)\u001b[0m\n\u001b[1;32m     23\u001b[0m     \u001b[38;5;124m\"\u001b[39m\u001b[38;5;124mUser-Agent\u001b[39m\u001b[38;5;124m\"\u001b[39m: \u001b[38;5;124m\"\u001b[39m\u001b[38;5;124mMozilla/5.0 (Windows NT 10.0; Win64; x64) AppleWebKit/537.36 (KHTML, like Gecko) Chrome/122.0.0.0 Safari/537.36\u001b[39m\u001b[38;5;124m\"\u001b[39m,\n\u001b[1;32m     24\u001b[0m }\n\u001b[0;32m---> 25\u001b[0m driver \u001b[38;5;241m=\u001b[39m \u001b[43mwebdriver\u001b[49m\u001b[38;5;241;43m.\u001b[39;49m\u001b[43mChrome\u001b[49m\u001b[43m(\u001b[49m\u001b[43m)\u001b[49m  \u001b[38;5;66;03m# Requires ChromeDriver\u001b[39;00m\n\u001b[1;32m     26\u001b[0m driver\u001b[38;5;241m.\u001b[39mget(url)\n\u001b[1;32m     27\u001b[0m soup \u001b[38;5;241m=\u001b[39m BeautifulSoup(driver\u001b[38;5;241m.\u001b[39mpage_source, \u001b[38;5;124m'\u001b[39m\u001b[38;5;124mhtml.parser\u001b[39m\u001b[38;5;124m'\u001b[39m)\n",
      "File \u001b[0;32m~/miniconda3/envs/dream11/lib/python3.10/site-packages/selenium/webdriver/chrome/webdriver.py:45\u001b[0m, in \u001b[0;36mWebDriver.__init__\u001b[0;34m(self, options, service, keep_alive)\u001b[0m\n\u001b[1;32m     42\u001b[0m service \u001b[38;5;241m=\u001b[39m service \u001b[38;5;28;01mif\u001b[39;00m service \u001b[38;5;28;01melse\u001b[39;00m Service()\n\u001b[1;32m     43\u001b[0m options \u001b[38;5;241m=\u001b[39m options \u001b[38;5;28;01mif\u001b[39;00m options \u001b[38;5;28;01melse\u001b[39;00m Options()\n\u001b[0;32m---> 45\u001b[0m \u001b[38;5;28;43msuper\u001b[39;49m\u001b[43m(\u001b[49m\u001b[43m)\u001b[49m\u001b[38;5;241;43m.\u001b[39;49m\u001b[38;5;21;43m__init__\u001b[39;49m\u001b[43m(\u001b[49m\n\u001b[1;32m     46\u001b[0m \u001b[43m    \u001b[49m\u001b[43mbrowser_name\u001b[49m\u001b[38;5;241;43m=\u001b[39;49m\u001b[43mDesiredCapabilities\u001b[49m\u001b[38;5;241;43m.\u001b[39;49m\u001b[43mCHROME\u001b[49m\u001b[43m[\u001b[49m\u001b[38;5;124;43m\"\u001b[39;49m\u001b[38;5;124;43mbrowserName\u001b[39;49m\u001b[38;5;124;43m\"\u001b[39;49m\u001b[43m]\u001b[49m\u001b[43m,\u001b[49m\n\u001b[1;32m     47\u001b[0m \u001b[43m    \u001b[49m\u001b[43mvendor_prefix\u001b[49m\u001b[38;5;241;43m=\u001b[39;49m\u001b[38;5;124;43m\"\u001b[39;49m\u001b[38;5;124;43mgoog\u001b[39;49m\u001b[38;5;124;43m\"\u001b[39;49m\u001b[43m,\u001b[49m\n\u001b[1;32m     48\u001b[0m \u001b[43m    \u001b[49m\u001b[43moptions\u001b[49m\u001b[38;5;241;43m=\u001b[39;49m\u001b[43moptions\u001b[49m\u001b[43m,\u001b[49m\n\u001b[1;32m     49\u001b[0m \u001b[43m    \u001b[49m\u001b[43mservice\u001b[49m\u001b[38;5;241;43m=\u001b[39;49m\u001b[43mservice\u001b[49m\u001b[43m,\u001b[49m\n\u001b[1;32m     50\u001b[0m \u001b[43m    \u001b[49m\u001b[43mkeep_alive\u001b[49m\u001b[38;5;241;43m=\u001b[39;49m\u001b[43mkeep_alive\u001b[49m\u001b[43m,\u001b[49m\n\u001b[1;32m     51\u001b[0m \u001b[43m\u001b[49m\u001b[43m)\u001b[49m\n",
      "File \u001b[0;32m~/miniconda3/envs/dream11/lib/python3.10/site-packages/selenium/webdriver/chromium/webdriver.py:66\u001b[0m, in \u001b[0;36mChromiumDriver.__init__\u001b[0;34m(self, browser_name, vendor_prefix, options, service, keep_alive)\u001b[0m\n\u001b[1;32m     57\u001b[0m executor \u001b[38;5;241m=\u001b[39m ChromiumRemoteConnection(\n\u001b[1;32m     58\u001b[0m     remote_server_addr\u001b[38;5;241m=\u001b[39m\u001b[38;5;28mself\u001b[39m\u001b[38;5;241m.\u001b[39mservice\u001b[38;5;241m.\u001b[39mservice_url,\n\u001b[1;32m     59\u001b[0m     browser_name\u001b[38;5;241m=\u001b[39mbrowser_name,\n\u001b[0;32m   (...)\u001b[0m\n\u001b[1;32m     62\u001b[0m     ignore_proxy\u001b[38;5;241m=\u001b[39moptions\u001b[38;5;241m.\u001b[39m_ignore_local_proxy,\n\u001b[1;32m     63\u001b[0m )\n\u001b[1;32m     65\u001b[0m \u001b[38;5;28;01mtry\u001b[39;00m:\n\u001b[0;32m---> 66\u001b[0m     \u001b[38;5;28;43msuper\u001b[39;49m\u001b[43m(\u001b[49m\u001b[43m)\u001b[49m\u001b[38;5;241;43m.\u001b[39;49m\u001b[38;5;21;43m__init__\u001b[39;49m\u001b[43m(\u001b[49m\u001b[43mcommand_executor\u001b[49m\u001b[38;5;241;43m=\u001b[39;49m\u001b[43mexecutor\u001b[49m\u001b[43m,\u001b[49m\u001b[43m \u001b[49m\u001b[43moptions\u001b[49m\u001b[38;5;241;43m=\u001b[39;49m\u001b[43moptions\u001b[49m\u001b[43m)\u001b[49m\n\u001b[1;32m     67\u001b[0m \u001b[38;5;28;01mexcept\u001b[39;00m \u001b[38;5;167;01mException\u001b[39;00m:\n\u001b[1;32m     68\u001b[0m     \u001b[38;5;28mself\u001b[39m\u001b[38;5;241m.\u001b[39mquit()\n",
      "File \u001b[0;32m~/miniconda3/envs/dream11/lib/python3.10/site-packages/selenium/webdriver/remote/webdriver.py:250\u001b[0m, in \u001b[0;36mWebDriver.__init__\u001b[0;34m(self, command_executor, keep_alive, file_detector, options, locator_converter, web_element_cls, client_config)\u001b[0m\n\u001b[1;32m    248\u001b[0m \u001b[38;5;28mself\u001b[39m\u001b[38;5;241m.\u001b[39m_authenticator_id \u001b[38;5;241m=\u001b[39m \u001b[38;5;28;01mNone\u001b[39;00m\n\u001b[1;32m    249\u001b[0m \u001b[38;5;28mself\u001b[39m\u001b[38;5;241m.\u001b[39mstart_client()\n\u001b[0;32m--> 250\u001b[0m \u001b[38;5;28;43mself\u001b[39;49m\u001b[38;5;241;43m.\u001b[39;49m\u001b[43mstart_session\u001b[49m\u001b[43m(\u001b[49m\u001b[43mcapabilities\u001b[49m\u001b[43m)\u001b[49m\n\u001b[1;32m    251\u001b[0m \u001b[38;5;28mself\u001b[39m\u001b[38;5;241m.\u001b[39m_fedcm \u001b[38;5;241m=\u001b[39m FedCM(\u001b[38;5;28mself\u001b[39m)\n\u001b[1;32m    253\u001b[0m \u001b[38;5;28mself\u001b[39m\u001b[38;5;241m.\u001b[39m_websocket_connection \u001b[38;5;241m=\u001b[39m \u001b[38;5;28;01mNone\u001b[39;00m\n",
      "File \u001b[0;32m~/miniconda3/envs/dream11/lib/python3.10/site-packages/selenium/webdriver/remote/webdriver.py:342\u001b[0m, in \u001b[0;36mWebDriver.start_session\u001b[0;34m(self, capabilities)\u001b[0m\n\u001b[1;32m    333\u001b[0m \u001b[38;5;250m\u001b[39m\u001b[38;5;124;03m\"\"\"Creates a new session with the desired capabilities.\u001b[39;00m\n\u001b[1;32m    334\u001b[0m \n\u001b[1;32m    335\u001b[0m \u001b[38;5;124;03mParameters:\u001b[39;00m\n\u001b[0;32m   (...)\u001b[0m\n\u001b[1;32m    338\u001b[0m \u001b[38;5;124;03m    - A capabilities dict to start the session with.\u001b[39;00m\n\u001b[1;32m    339\u001b[0m \u001b[38;5;124;03m\"\"\"\u001b[39;00m\n\u001b[1;32m    341\u001b[0m caps \u001b[38;5;241m=\u001b[39m _create_caps(capabilities)\n\u001b[0;32m--> 342\u001b[0m response \u001b[38;5;241m=\u001b[39m \u001b[38;5;28;43mself\u001b[39;49m\u001b[38;5;241;43m.\u001b[39;49m\u001b[43mexecute\u001b[49m\u001b[43m(\u001b[49m\u001b[43mCommand\u001b[49m\u001b[38;5;241;43m.\u001b[39;49m\u001b[43mNEW_SESSION\u001b[49m\u001b[43m,\u001b[49m\u001b[43m \u001b[49m\u001b[43mcaps\u001b[49m\u001b[43m)\u001b[49m[\u001b[38;5;124m\"\u001b[39m\u001b[38;5;124mvalue\u001b[39m\u001b[38;5;124m\"\u001b[39m]\n\u001b[1;32m    343\u001b[0m \u001b[38;5;28mself\u001b[39m\u001b[38;5;241m.\u001b[39msession_id \u001b[38;5;241m=\u001b[39m response\u001b[38;5;241m.\u001b[39mget(\u001b[38;5;124m\"\u001b[39m\u001b[38;5;124msessionId\u001b[39m\u001b[38;5;124m\"\u001b[39m)\n\u001b[1;32m    344\u001b[0m \u001b[38;5;28mself\u001b[39m\u001b[38;5;241m.\u001b[39mcaps \u001b[38;5;241m=\u001b[39m response\u001b[38;5;241m.\u001b[39mget(\u001b[38;5;124m\"\u001b[39m\u001b[38;5;124mcapabilities\u001b[39m\u001b[38;5;124m\"\u001b[39m)\n",
      "File \u001b[0;32m~/miniconda3/envs/dream11/lib/python3.10/site-packages/selenium/webdriver/remote/webdriver.py:429\u001b[0m, in \u001b[0;36mWebDriver.execute\u001b[0;34m(self, driver_command, params)\u001b[0m\n\u001b[1;32m    427\u001b[0m response \u001b[38;5;241m=\u001b[39m \u001b[38;5;28mself\u001b[39m\u001b[38;5;241m.\u001b[39mcommand_executor\u001b[38;5;241m.\u001b[39mexecute(driver_command, params)\n\u001b[1;32m    428\u001b[0m \u001b[38;5;28;01mif\u001b[39;00m response:\n\u001b[0;32m--> 429\u001b[0m     \u001b[38;5;28;43mself\u001b[39;49m\u001b[38;5;241;43m.\u001b[39;49m\u001b[43merror_handler\u001b[49m\u001b[38;5;241;43m.\u001b[39;49m\u001b[43mcheck_response\u001b[49m\u001b[43m(\u001b[49m\u001b[43mresponse\u001b[49m\u001b[43m)\u001b[49m\n\u001b[1;32m    430\u001b[0m     response[\u001b[38;5;124m\"\u001b[39m\u001b[38;5;124mvalue\u001b[39m\u001b[38;5;124m\"\u001b[39m] \u001b[38;5;241m=\u001b[39m \u001b[38;5;28mself\u001b[39m\u001b[38;5;241m.\u001b[39m_unwrap_value(response\u001b[38;5;241m.\u001b[39mget(\u001b[38;5;124m\"\u001b[39m\u001b[38;5;124mvalue\u001b[39m\u001b[38;5;124m\"\u001b[39m, \u001b[38;5;28;01mNone\u001b[39;00m))\n\u001b[1;32m    431\u001b[0m     \u001b[38;5;28;01mreturn\u001b[39;00m response\n",
      "File \u001b[0;32m~/miniconda3/envs/dream11/lib/python3.10/site-packages/selenium/webdriver/remote/errorhandler.py:232\u001b[0m, in \u001b[0;36mErrorHandler.check_response\u001b[0;34m(self, response)\u001b[0m\n\u001b[1;32m    230\u001b[0m         alert_text \u001b[38;5;241m=\u001b[39m value[\u001b[38;5;124m\"\u001b[39m\u001b[38;5;124malert\u001b[39m\u001b[38;5;124m\"\u001b[39m]\u001b[38;5;241m.\u001b[39mget(\u001b[38;5;124m\"\u001b[39m\u001b[38;5;124mtext\u001b[39m\u001b[38;5;124m\"\u001b[39m)\n\u001b[1;32m    231\u001b[0m     \u001b[38;5;28;01mraise\u001b[39;00m exception_class(message, screen, stacktrace, alert_text)  \u001b[38;5;66;03m# type: ignore[call-arg]  # mypy is not smart enough here\u001b[39;00m\n\u001b[0;32m--> 232\u001b[0m \u001b[38;5;28;01mraise\u001b[39;00m exception_class(message, screen, stacktrace)\n",
      "\u001b[0;31mSessionNotCreatedException\u001b[0m: Message: session not created: probably user data directory is already in use, please specify a unique value for --user-data-dir argument, or don't use --user-data-dir\nStacktrace:\n#0 0x56423cf93d0a <unknown>\n#1 0x56423ca445f0 <unknown>\n#2 0x56423ca7e0db <unknown>\n#3 0x56423ca79e2f <unknown>\n#4 0x56423cac9f9e <unknown>\n#5 0x56423cac94c6 <unknown>\n#6 0x56423cabb433 <unknown>\n#7 0x56423ca87ea3 <unknown>\n#8 0x56423ca88b01 <unknown>\n#9 0x56423cf58b5b <unknown>\n#10 0x56423cf5ca41 <unknown>\n#11 0x56423cf3fc52 <unknown>\n#12 0x56423cf5d5b4 <unknown>\n#13 0x56423cf23f0f <unknown>\n#14 0x56423cf81db8 <unknown>\n#15 0x56423cf81f96 <unknown>\n#16 0x56423cf92b56 <unknown>\n#17 0x7f2b741a6609 start_thread\n"
     ]
    }
   ],
   "source": [
    "import requests\n",
    "from bs4 import BeautifulSoup\n",
    "\n",
    "from selenium import webdriver\n",
    "from bs4 import BeautifulSoup\n",
    "\n",
    "def fetch_player_info(player_id):\n",
    "    url = f\"https://www.espncricinfo.com/ci/content/player/{player_id}.html\"\n",
    "    \n",
    "    headers = {\n",
    "        \"Accept\": \"text/html,application/xhtml+xml,application/xml;q=0.9,image/avif,image/webp,image/apng,*/*;q=0.8,application/signed-exchange;v=b3;q=0.7\",\n",
    "        \"Accept-Encoding\": \"gzip, deflate, br, zstd\",\n",
    "        \"Accept-Language\": \"en-US,en;q=0.9\",\n",
    "        \"Cache-Control\": \"max-age=0\",\n",
    "        \"Sec-Ch-Ua\": '\"Chromium\";v=\"122\", \"Not(A:Brand\";v=\"24\", \"Google Chrome\";v=\"122\"',\n",
    "        \"Sec-Ch-Ua-Mobile\": \"?0\",\n",
    "        \"Sec-Ch-Ua-Platform\": '\"Windows\"',\n",
    "        \"Sec-Fetch-Dest\": \"document\",\n",
    "        \"Sec-Fetch-Mode\": \"navigate\",\n",
    "        \"Sec-Fetch-Site\": \"none\",\n",
    "        \"Sec-Fetch-User\": \"?1\",\n",
    "        \"Upgrade-Insecure-Requests\": \"1\",\n",
    "        \"User-Agent\": \"Mozilla/5.0 (Windows NT 10.0; Win64; x64) AppleWebKit/537.36 (KHTML, like Gecko) Chrome/122.0.0.0 Safari/537.36\",\n",
    "    }\n",
    "    driver = webdriver.Chrome()  # Requires ChromeDriver\n",
    "    driver.get(url)\n",
    "    soup = BeautifulSoup(driver.page_source, 'html.parser')\n",
    "    driver.quit()\n",
    "\n",
    "    # response = requests.get(url, headers=headers)\n",
    "    # print(response)\n",
    "\n",
    "    # if response.status_code != 200:\n",
    "    #     print(f\"❌ Failed for {player_id} with status code {response.status_code}\")\n",
    "    #     print(response.text)  # Print response text for debugging\n",
    "    #     return None, None\n",
    "\n",
    "    # soup = BeautifulSoup(response.text, 'html.parser')\n",
    "\n",
    "    # Player name\n",
    "    name_tag = soup.find(\"h1\", class_=\"ds-text-title-l ds-font-bold\")\n",
    "    player_name = name_tag.text.strip() if name_tag else None\n",
    "\n",
    "    # Player info paragraphs\n",
    "    paragraphs = soup.find_all(\"p\")\n",
    "    def get_data(label):\n",
    "        try:\n",
    "            idx = [i for i, p in enumerate(paragraphs) if label in p.text][0]\n",
    "            return paragraphs[idx+1].text.strip()\n",
    "        except:\n",
    "            return None\n",
    "\n",
    "    playing_role = get_data(\"Playing Role\")\n",
    "\n",
    "    return player_name, playing_role\n",
    "\n",
    "# Test the function\n",
    "name, role = fetch_player_info(772407)\n",
    "print(\"Name:\", name)\n",
    "print(\"Role:\", role)"
   ]
  },
  {
   "cell_type": "code",
   "execution_count": 32,
   "metadata": {},
   "outputs": [
    {
     "name": "stdout",
     "output_type": "stream",
     "text": [
      "<Response [403]>\n",
      "❌ Failed for 772407 with status code 403\n",
      "Name: None\n",
      "Role: None\n"
     ]
    }
   ],
   "source": [
    "name, role = fetch_player_info(772407)\n",
    "print(\"Name:\", name)\n",
    "print(\"Role:\", role)\n"
   ]
  }
 ],
 "metadata": {
  "kernelspec": {
   "display_name": "dream11",
   "language": "python",
   "name": "python3"
  },
  "language_info": {
   "codemirror_mode": {
    "name": "ipython",
    "version": 3
   },
   "file_extension": ".py",
   "mimetype": "text/x-python",
   "name": "python",
   "nbconvert_exporter": "python",
   "pygments_lexer": "ipython3",
   "version": "3.10.0"
  }
 },
 "nbformat": 4,
 "nbformat_minor": 2
}
