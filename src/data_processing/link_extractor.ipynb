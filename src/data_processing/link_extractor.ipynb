{
 "cells": [
  {
   "cell_type": "code",
   "execution_count": 36,
   "metadata": {},
   "outputs": [
    {
     "name": "stderr",
     "output_type": "stream",
     "text": [
      " 86%|████████▌ | 196/228 [04:01<00:56,  1.76s/it]"
     ]
    },
    {
     "name": "stdout",
     "output_type": "stream",
     "text": [
      "Error searching for Yudhvir Singh Charak: 429 Client Error: Too Many Requests for url: https://www.google.com/sorry/index?continue=https://www.google.com/search%3Fq%3DYudhvir%2BSingh%2BCharak%2Bprofile%2BESPNcricinfo%2BRR%26num%3D12%26hl%3Den%26start%3D0%26safe%3Dactive&hl=en&q=EgSpltqCGOeJksAGIjDLZcfb0PZjJJ9hrFnNUv0m0-MfGtAjWCg0rOel-_fpJ_7EHdliFuu9uffq9hwGRHoyBmpjbmRyUloBQw. Please try again.\n",
      "Yudhvir Singh Charak profile ESPNcricinfo RR\n"
     ]
    },
    {
     "name": "stderr",
     "output_type": "stream",
     "text": [
      " 86%|████████▋ | 197/228 [04:03<00:59,  1.91s/it]"
     ]
    },
    {
     "name": "stdout",
     "output_type": "stream",
     "text": [
      "Error searching for Maheesh Theekshana: 429 Client Error: Too Many Requests for url: https://www.google.com/sorry/index?continue=https://www.google.com/search%3Fq%3DMaheesh%2BTheekshana%2Bprofile%2BESPNcricinfo%2BRR%26num%3D12%26hl%3Den%26start%3D0%26safe%3Dactive&hl=en&q=EgSpltqCGOiJksAGIjDAmqOhdO6NZH0JXdMJvMtUv6_1L-xLC3Y6SJLAYZHt90wUlGV4xxlhXU6niV1TbAcyBmpjbmRyUloBQw. Please try again.\n",
      "Maheesh Theekshana profile ESPNcricinfo RR\n"
     ]
    },
    {
     "name": "stderr",
     "output_type": "stream",
     "text": [
      " 87%|████████▋ | 198/228 [04:05<01:00,  2.00s/it]"
     ]
    },
    {
     "name": "stdout",
     "output_type": "stream",
     "text": [
      "Error searching for Dhruv Jurel: 429 Client Error: Too Many Requests for url: https://www.google.com/sorry/index?continue=https://www.google.com/search%3Fq%3DDhruv%2BJurel%2Bprofile%2BESPNcricinfo%2BRR%26num%3D12%26hl%3Den%26start%3D0%26safe%3Dactive&hl=en&q=EgSpltqCGOyJksAGIjAW8RBDzTmLGtgJBxYDeHkpc1HA_aQmBKMcFlcMJFO3tWPu0Ew6ZR5qqZKFj1VpCZcyBmpjbmRyUloBQw. Please try again.\n",
      "Dhruv Jurel profile ESPNcricinfo RR\n"
     ]
    },
    {
     "name": "stderr",
     "output_type": "stream",
     "text": [
      " 87%|████████▋ | 199/228 [04:08<01:03,  2.20s/it]"
     ]
    },
    {
     "name": "stdout",
     "output_type": "stream",
     "text": [
      "Error searching for Kumar Kartikeya: 429 Client Error: Too Many Requests for url: https://www.google.com/sorry/index?continue=https://www.google.com/search%3Fq%3DKumar%2BKartikeya%2Bprofile%2BESPNcricinfo%2BRR%26num%3D12%26hl%3Den%26start%3D0%26safe%3Dactive&hl=en&q=EgSpltqCGO6JksAGIjDMblMjv4UsBESNIpt1RD2qhiy6hWkejXag3O-xvA64pYTlVZXad49ywmw5f-BBn3syBmpjbmRyUloBQw. Please try again.\n",
      "Kumar Kartikeya profile ESPNcricinfo RR\n"
     ]
    },
    {
     "name": "stderr",
     "output_type": "stream",
     "text": [
      " 88%|████████▊ | 200/228 [04:09<00:52,  1.86s/it]"
     ]
    },
    {
     "name": "stdout",
     "output_type": "stream",
     "text": [
      "Error searching for Yashasvi Jaiswal: 429 Client Error: Too Many Requests for url: https://www.google.com/sorry/index?continue=https://www.google.com/search%3Fq%3DYashasvi%2BJaiswal%2Bprofile%2BESPNcricinfo%2BRR%26num%3D12%26hl%3Den%26start%3D0%26safe%3Dactive&hl=en&q=EgSpltqCGO-JksAGIjA8nabp9ZPl6cEO9Ng20SbN7mSzRIP85wIfO3C5eHBjlsebtz9T6gloOxMTU7ZOcFwyBmpjbmRyUloBQw. Please try again.\n",
      "Yashasvi Jaiswal profile ESPNcricinfo RR\n"
     ]
    },
    {
     "name": "stderr",
     "output_type": "stream",
     "text": [
      " 88%|████████▊ | 201/228 [04:10<00:44,  1.64s/it]"
     ]
    },
    {
     "name": "stdout",
     "output_type": "stream",
     "text": [
      "Error searching for FazalHaq Farooqi: 429 Client Error: Too Many Requests for url: https://www.google.com/sorry/index?continue=https://www.google.com/search%3Fq%3DFazalHaq%2BFarooqi%2Bprofile%2BESPNcricinfo%2BRR%26num%3D12%26hl%3Den%26start%3D0%26safe%3Dactive&hl=en&q=EgSpltqCGPGJksAGIjAbpP6XwFGe8l3DCoSx6Mk5f3fK-NUBUZWdaLmSkH_cPDV4OC_NKFA4z3eJApa2Qa4yBmpjbmRyUloBQw. Please try again.\n",
      "FazalHaq Farooqi profile ESPNcricinfo RR\n"
     ]
    },
    {
     "name": "stderr",
     "output_type": "stream",
     "text": [
      " 89%|████████▊ | 202/228 [04:11<00:39,  1.50s/it]"
     ]
    },
    {
     "name": "stdout",
     "output_type": "stream",
     "text": [
      "Error searching for Riyan Parag: 429 Client Error: Too Many Requests for url: https://www.google.com/sorry/index?continue=https://www.google.com/search%3Fq%3DRiyan%2BParag%2Bprofile%2BESPNcricinfo%2BRR%26num%3D12%26hl%3Den%26start%3D0%26safe%3Dactive&hl=en&q=EgSpltqCGPKJksAGIjCn52_ywzgT0D5DaZtJ3I2YGzsbbWV_ofeJ-ZRrE9hS8ZpYIsyPT-0qhbYyAsyYT-0yBmpjbmRyUloBQw. Please try again.\n",
      "Riyan Parag profile ESPNcricinfo RR\n"
     ]
    },
    {
     "name": "stderr",
     "output_type": "stream",
     "text": [
      " 89%|████████▉ | 203/228 [04:13<00:36,  1.47s/it]"
     ]
    },
    {
     "name": "stdout",
     "output_type": "stream",
     "text": [
      "Error searching for Tushar Deshpande: 429 Client Error: Too Many Requests for url: https://www.google.com/sorry/index?continue=https://www.google.com/search%3Fq%3DTushar%2BDeshpande%2Bprofile%2BESPNcricinfo%2BRR%26num%3D12%26hl%3Den%26start%3D0%26safe%3Dactive&hl=en&q=EgSpltqCGPOJksAGIjCUO7pCJ6qpZdAmRz3UFNO9D-4MufQIUqpFxyYi-MRwsru6uA7Q0fQV3VFF626FXRgyBmpjbmRyUloBQw. Please try again.\n",
      "Tushar Deshpande profile ESPNcricinfo RR\n"
     ]
    },
    {
     "name": "stderr",
     "output_type": "stream",
     "text": [
      " 89%|████████▉ | 204/228 [04:14<00:35,  1.47s/it]"
     ]
    },
    {
     "name": "stdout",
     "output_type": "stream",
     "text": [
      "Error searching for Jofra Archer: 429 Client Error: Too Many Requests for url: https://www.google.com/sorry/index?continue=https://www.google.com/search%3Fq%3DJofra%2BArcher%2Bprofile%2BESPNcricinfo%2BRR%26num%3D12%26hl%3Den%26start%3D0%26safe%3Dactive&hl=en&q=EgSpltqCGPSJksAGIjDkLEx--e0skerSbb8DlCFDLS1izXvsGw77vLcUW3PAaT7FJcW2D3IK5jXvReQSiwoyBmpjbmRyUloBQw. Please try again.\n",
      "Jofra Archer profile ESPNcricinfo RR\n"
     ]
    },
    {
     "name": "stderr",
     "output_type": "stream",
     "text": [
      " 90%|████████▉ | 205/228 [04:15<00:31,  1.38s/it]"
     ]
    },
    {
     "name": "stdout",
     "output_type": "stream",
     "text": [
      "Error searching for Wanindu Hasaranga: 429 Client Error: Too Many Requests for url: https://www.google.com/sorry/index?continue=https://www.google.com/search%3Fq%3DWanindu%2BHasaranga%2Bprofile%2BESPNcricinfo%2BRR%26num%3D12%26hl%3Den%26start%3D0%26safe%3Dactive&hl=en&q=EgSpltqCGPaJksAGIjDxg-o6D6MiimsO_IcFagXxhpL20n2clVrp0oeTwmquNIn051qWVr-Vf3xy5MVmgOcyBmpjbmRyUloBQw. Please try again.\n",
      "Wanindu Hasaranga profile ESPNcricinfo RR\n"
     ]
    },
    {
     "name": "stderr",
     "output_type": "stream",
     "text": [
      " 90%|█████████ | 206/228 [04:17<00:30,  1.39s/it]"
     ]
    },
    {
     "name": "stdout",
     "output_type": "stream",
     "text": [
      "Error searching for Nitish Rana: 429 Client Error: Too Many Requests for url: https://www.google.com/sorry/index?continue=https://www.google.com/search%3Fq%3DNitish%2BRana%2Bprofile%2BESPNcricinfo%2BRR%26num%3D12%26hl%3Den%26start%3D0%26safe%3Dactive&hl=en&q=EgSpltqCGPeJksAGIjAUNma9z7-44g8Zy7Q2xOJwmlJYt-ZD706-_NlPHgUjn2Mb30CCVpglQFaFKFKYdOgyBmpjbmRyUloBQw. Please try again.\n",
      "Nitish Rana profile ESPNcricinfo RR\n"
     ]
    },
    {
     "name": "stderr",
     "output_type": "stream",
     "text": [
      " 91%|█████████ | 207/228 [04:18<00:27,  1.33s/it]"
     ]
    },
    {
     "name": "stdout",
     "output_type": "stream",
     "text": [
      "Error searching for Shimron Hetmyer: 429 Client Error: Too Many Requests for url: https://www.google.com/sorry/index?continue=https://www.google.com/search%3Fq%3DShimron%2BHetmyer%2Bprofile%2BESPNcricinfo%2BRR%26num%3D12%26hl%3Den%26start%3D0%26safe%3Dactive&hl=en&q=EgSpltqCGPiJksAGIjBoMkjK_m-0dtphgsm5h0eDAA3uJ4bDYcBgxs1ovlp-By0Drvvu59R6y3F-tpiny5kyBmpjbmRyUloBQw. Please try again.\n",
      "Shimron Hetmyer profile ESPNcricinfo RR\n"
     ]
    },
    {
     "name": "stderr",
     "output_type": "stream",
     "text": [
      " 91%|█████████ | 208/228 [04:19<00:25,  1.26s/it]"
     ]
    },
    {
     "name": "stdout",
     "output_type": "stream",
     "text": [
      "Error searching for Sandeep Sharma: 429 Client Error: Too Many Requests for url: https://www.google.com/sorry/index?continue=https://www.google.com/search%3Fq%3DSandeep%2BSharma%2Bprofile%2BESPNcricinfo%2BRR%26num%3D12%26hl%3Den%26start%3D0%26safe%3Dactive&hl=en&q=EgSpltqCGPmJksAGIjBFloHefBMUPpjiwU91uR0wlqefWKIv5OlVY4eIbrP6_NM6mivXbe94hm_0hOg5_L0yBmpjbmRyUloBQw. Please try again.\n",
      "Sandeep Sharma profile ESPNcricinfo RR\n"
     ]
    },
    {
     "name": "stderr",
     "output_type": "stream",
     "text": [
      " 92%|█████████▏| 209/228 [04:20<00:22,  1.16s/it]"
     ]
    },
    {
     "name": "stdout",
     "output_type": "stream",
     "text": [
      "Error searching for Sanju Samson: 429 Client Error: Too Many Requests for url: https://www.google.com/sorry/index?continue=https://www.google.com/search%3Fq%3DSanju%2BSamson%2Bprofile%2BESPNcricinfo%2BRR%26num%3D12%26hl%3Den%26start%3D0%26safe%3Dactive&hl=en&q=EgSpltqCGPqJksAGIjBL0lEh4abVe9eny4P3YJjmxo8dmPnNqProh2qwuntsdPF7lyNUjVS0W_q3YT7v_E0yBmpjbmRyUloBQw. Please try again.\n",
      "Sanju Samson profile ESPNcricinfo RR\n"
     ]
    },
    {
     "name": "stderr",
     "output_type": "stream",
     "text": [
      " 92%|█████████▏| 210/228 [04:21<00:22,  1.22s/it]"
     ]
    },
    {
     "name": "stdout",
     "output_type": "stream",
     "text": [
      "Error searching for Aniket Verma: 429 Client Error: Too Many Requests for url: https://www.google.com/sorry/index?continue=https://www.google.com/search%3Fq%3DAniket%2BVerma%2Bprofile%2BESPNcricinfo%2BSRH%26num%3D12%26hl%3Den%26start%3D0%26safe%3Dactive&hl=en&q=EgSpltqCGPyJksAGIjCL8TC16KZI9fXY9UEClUvP7ONH_AzJ-A2VYnYiOE73YbFLCug92c5DEkNvj7i2wlAyBmpjbmRyUloBQw. Please try again.\n",
      "Aniket Verma profile ESPNcricinfo SRH\n"
     ]
    },
    {
     "name": "stderr",
     "output_type": "stream",
     "text": [
      " 93%|█████████▎| 211/228 [04:23<00:25,  1.50s/it]"
     ]
    },
    {
     "name": "stdout",
     "output_type": "stream",
     "text": [
      "Error searching for Eshan Malinga: 429 Client Error: Too Many Requests for url: https://www.google.com/sorry/index?continue=https://www.google.com/search%3Fq%3DEshan%2BMalinga%2Bprofile%2BESPNcricinfo%2BSRH%26num%3D12%26hl%3Den%26start%3D0%26safe%3Dactive&hl=en&q=EgSpltqCGP2JksAGIjCEDdSuqeXZ5QoaQbs54_eDc4l8rSygEE17ZlomgHRxRF-8En99OmL1gFkI263oFg8yBmpjbmRyUloBQw. Please try again.\n",
      "Eshan Malinga profile ESPNcricinfo SRH\n"
     ]
    },
    {
     "name": "stderr",
     "output_type": "stream",
     "text": [
      " 93%|█████████▎| 212/228 [04:25<00:22,  1.41s/it]"
     ]
    },
    {
     "name": "stdout",
     "output_type": "stream",
     "text": [
      "Error searching for K Nitish Reddy: 429 Client Error: Too Many Requests for url: https://www.google.com/sorry/index?continue=https://www.google.com/search%3Fq%3DK%2BNitish%2BReddy%2Bprofile%2BESPNcricinfo%2BSRH%26num%3D12%26hl%3Den%26start%3D0%26safe%3Dactive&hl=en&q=EgSpltqCGP-JksAGIjDLkdSYJniF4fN1Fx5C7Ybf0rdB7lgUq5x_39scMSKZhUyUuhanTYGpNbINVSEISpgyBmpjbmRyUloBQw. Please try again.\n",
      "K Nitish Reddy profile ESPNcricinfo SRH\n"
     ]
    },
    {
     "name": "stderr",
     "output_type": "stream",
     "text": [
      " 93%|█████████▎| 213/228 [04:26<00:19,  1.30s/it]"
     ]
    },
    {
     "name": "stdout",
     "output_type": "stream",
     "text": [
      "Error searching for Abhinav Manohar: 429 Client Error: Too Many Requests for url: https://www.google.com/sorry/index?continue=https://www.google.com/search%3Fq%3DAbhinav%2BManohar%2Bprofile%2BESPNcricinfo%2BSRH%26num%3D12%26hl%3Den%26start%3D0%26safe%3Dactive&hl=en&q=EgSpltqCGICKksAGIjCYxuYu0I0NM7j35EBG43Yxglls6frWbon3gNhkrCPyZqI9sk5BzDdpCOxHBSrITqIyBmpjbmRyUloBQw. Please try again.\n",
      "Abhinav Manohar profile ESPNcricinfo SRH\n"
     ]
    },
    {
     "name": "stderr",
     "output_type": "stream",
     "text": [
      " 94%|█████████▍| 214/228 [04:27<00:17,  1.22s/it]"
     ]
    },
    {
     "name": "stdout",
     "output_type": "stream",
     "text": [
      "Error searching for Atharva Taide: 429 Client Error: Too Many Requests for url: https://www.google.com/sorry/index?continue=https://www.google.com/search%3Fq%3DAtharva%2BTaide%2Bprofile%2BESPNcricinfo%2BSRH%26num%3D12%26hl%3Den%26start%3D0%26safe%3Dactive&hl=en&q=EgSpltqCGIGKksAGIjAyPDcwRa_6dwWSkMkStHnQPyx6U_3wrTQaHG3PeTcSCrvW2YillnDzSBcgvxBn_08yBmpjbmRyUloBQw. Please try again.\n",
      "Atharva Taide profile ESPNcricinfo SRH\n"
     ]
    },
    {
     "name": "stderr",
     "output_type": "stream",
     "text": [
      " 94%|█████████▍| 215/228 [04:28<00:16,  1.24s/it]"
     ]
    },
    {
     "name": "stdout",
     "output_type": "stream",
     "text": [
      "Error searching for Simarjeet- Singh: 429 Client Error: Too Many Requests for url: https://www.google.com/sorry/index?continue=https://www.google.com/search%3Fq%3DSimarjeet-%2BSingh%2Bprofile%2BESPNcricinfo%2BSRH%26num%3D12%26hl%3Den%26start%3D0%26safe%3Dactive&hl=en&q=EgSpltqCGIKKksAGIjAYmKD0NSmQP3O9iTSFWUlo2fV-bMrYcch9-EpE0HmwQSTE5cNxUYFZ97wBrm9v_NQyBmpjbmRyUloBQw. Please try again.\n",
      "Simarjeet- Singh profile ESPNcricinfo SRH\n"
     ]
    },
    {
     "name": "stderr",
     "output_type": "stream",
     "text": [
      " 95%|█████████▍| 216/228 [04:29<00:13,  1.16s/it]"
     ]
    },
    {
     "name": "stdout",
     "output_type": "stream",
     "text": [
      "Error searching for Rahul Chahar: 429 Client Error: Too Many Requests for url: https://www.google.com/sorry/index?continue=https://www.google.com/search%3Fq%3DRahul%2BChahar%2Bprofile%2BESPNcricinfo%2BSRH%26num%3D12%26hl%3Den%26start%3D0%26safe%3Dactive&hl=en&q=EgSpltqCGIOKksAGIjAegbHrrxCtFgnuerkpwTWR49SxAnzfh6uj5bBhM8uaBJ9F2N2F32PcaBWjF7_wdLQyBmpjbmRyUloBQw. Please try again.\n",
      "Rahul Chahar profile ESPNcricinfo SRH\n"
     ]
    },
    {
     "name": "stderr",
     "output_type": "stream",
     "text": [
      " 95%|█████████▌| 217/228 [04:30<00:11,  1.09s/it]"
     ]
    },
    {
     "name": "stdout",
     "output_type": "stream",
     "text": [
      "Error searching for Abhishek Sharma: 429 Client Error: Too Many Requests for url: https://www.google.com/sorry/index?continue=https://www.google.com/search%3Fq%3DAbhishek%2BSharma%2Bprofile%2BESPNcricinfo%2BSRH%26num%3D12%26hl%3Den%26start%3D0%26safe%3Dactive&hl=en&q=EgSpltqCGISKksAGIjDKxvwF1JNaKxekvEH2LohSLKtnGUgLH_0jO1j2iWY2XPQbCBrUdfjm_xQniXi_kgoyBmpjbmRyUloBQw. Please try again.\n",
      "Abhishek Sharma profile ESPNcricinfo SRH\n"
     ]
    },
    {
     "name": "stderr",
     "output_type": "stream",
     "text": [
      " 96%|█████████▌| 218/228 [04:31<00:11,  1.11s/it]"
     ]
    },
    {
     "name": "stdout",
     "output_type": "stream",
     "text": [
      "Error searching for Kamindu Mendis: 429 Client Error: Too Many Requests for url: https://www.google.com/sorry/index?continue=https://www.google.com/search%3Fq%3DKamindu%2BMendis%2Bprofile%2BESPNcricinfo%2BSRH%26num%3D12%26hl%3Den%26start%3D0%26safe%3Dactive&hl=en&q=EgSpltqCGIWKksAGIjAUnG5u60r97ny2xL4SunKKKaV89IS3XD1Hw51TSyU7B1Arm3dr0d4oUbJrqlZlYZkyBmpjbmRyUloBQw. Please try again.\n",
      "Kamindu Mendis profile ESPNcricinfo SRH\n"
     ]
    },
    {
     "name": "stderr",
     "output_type": "stream",
     "text": [
      " 96%|█████████▌| 219/228 [04:32<00:10,  1.12s/it]"
     ]
    },
    {
     "name": "stdout",
     "output_type": "stream",
     "text": [
      "Error searching for Wiaan Mulder: 429 Client Error: Too Many Requests for url: https://www.google.com/sorry/index?continue=https://www.google.com/search%3Fq%3DWiaan%2BMulder%2Bprofile%2BESPNcricinfo%2BSRH%26num%3D12%26hl%3Den%26start%3D0%26safe%3Dactive&hl=en&q=EgSpltqCGIeKksAGIjDBTVwlvOWMHFa6-gdSrkjmYswTW5j0UDwQsk9ODqNG8vKyCUyp3IaN9sJpBhZauYEyBmpjbmRyUloBQw. Please try again.\n",
      "Wiaan Mulder profile ESPNcricinfo SRH\n"
     ]
    },
    {
     "name": "stderr",
     "output_type": "stream",
     "text": [
      " 96%|█████████▋| 220/228 [04:33<00:09,  1.14s/it]"
     ]
    },
    {
     "name": "stdout",
     "output_type": "stream",
     "text": [
      "Error searching for Zeeshan Ansari: 429 Client Error: Too Many Requests for url: https://www.google.com/sorry/index?continue=https://www.google.com/search%3Fq%3DZeeshan%2BAnsari%2Bprofile%2BESPNcricinfo%2BSRH%26num%3D12%26hl%3Den%26start%3D0%26safe%3Dactive&hl=en&q=EgSpltqCGIiKksAGIjDkeYQZXX2Ke28ZwiuBNOcUd-6IvuYKbJmLag6lDCuZ4NOUHbXpqRqwxzgrbYPyNZgyBmpjbmRyUloBQw. Please try again.\n",
      "Zeeshan Ansari profile ESPNcricinfo SRH\n"
     ]
    },
    {
     "name": "stderr",
     "output_type": "stream",
     "text": [
      " 97%|█████████▋| 221/228 [04:35<00:08,  1.27s/it]"
     ]
    },
    {
     "name": "stdout",
     "output_type": "stream",
     "text": [
      "Error searching for Ishan Kishan: 429 Client Error: Too Many Requests for url: https://www.google.com/sorry/index?continue=https://www.google.com/search%3Fq%3DIshan%2BKishan%2Bprofile%2BESPNcricinfo%2BSRH%26num%3D12%26hl%3Den%26start%3D0%26safe%3Dactive&hl=en&q=EgSpltqCGImKksAGIjBnQZlJBrsX-zPC5jJdA6NEbZF6ZZI_J-aq7Xmsdjy_yDjN-TPrez1fABNcLzdNs0IyBmpjbmRyUloBQw. Please try again.\n",
      "Ishan Kishan profile ESPNcricinfo SRH\n"
     ]
    },
    {
     "name": "stderr",
     "output_type": "stream",
     "text": [
      " 97%|█████████▋| 222/228 [04:36<00:07,  1.21s/it]"
     ]
    },
    {
     "name": "stdout",
     "output_type": "stream",
     "text": [
      "Error searching for Heinrich Klaasen: 429 Client Error: Too Many Requests for url: https://www.google.com/sorry/index?continue=https://www.google.com/search%3Fq%3DHeinrich%2BKlaasen%2Bprofile%2BESPNcricinfo%2BSRH%26num%3D12%26hl%3Den%26start%3D0%26safe%3Dactive&hl=en&q=EgSpltqCGIqKksAGIjDbGnzHlvg0537HYEXe5vy8eJ7zRqUuqGIkaa6DAsXGNWBomrJ2pS0krLsJtBTttMkyBmpjbmRyUloBQw. Please try again.\n",
      "Heinrich Klaasen profile ESPNcricinfo SRH\n"
     ]
    },
    {
     "name": "stderr",
     "output_type": "stream",
     "text": [
      " 98%|█████████▊| 223/228 [04:37<00:05,  1.15s/it]"
     ]
    },
    {
     "name": "stdout",
     "output_type": "stream",
     "text": [
      "Error searching for Sachin Baby: 429 Client Error: Too Many Requests for url: https://www.google.com/sorry/index?continue=https://www.google.com/search%3Fq%3DSachin%2BBaby%2Bprofile%2BESPNcricinfo%2BSRH%26num%3D12%26hl%3Den%26start%3D0%26safe%3Dactive&hl=en&q=EgSpltqCGIuKksAGIjCIO6T9x6lcwAs4FfUJpi5EMyox7RwkjQ0_mDMitYD1bXkVCBTj34K7VDRNEQo-jZcyBmpjbmRyUloBQw. Please try again.\n",
      "Sachin Baby profile ESPNcricinfo SRH\n"
     ]
    },
    {
     "name": "stderr",
     "output_type": "stream",
     "text": [
      " 98%|█████████▊| 224/228 [04:38<00:04,  1.08s/it]"
     ]
    },
    {
     "name": "stdout",
     "output_type": "stream",
     "text": [
      "Error searching for Travis Head: 429 Client Error: Too Many Requests for url: https://www.google.com/sorry/index?continue=https://www.google.com/search%3Fq%3DTravis%2BHead%2Bprofile%2BESPNcricinfo%2BSRH%26num%3D12%26hl%3Den%26start%3D0%26safe%3Dactive&hl=en&q=EgSpltqCGIyKksAGIjB2mFoGktFPMRagrZdWIODwastYa6xz1MJF56-7RW85aHNp1H5AckLth4WRWveyPj4yBmpjbmRyUloBQw. Please try again.\n",
      "Travis Head profile ESPNcricinfo SRH\n"
     ]
    },
    {
     "name": "stderr",
     "output_type": "stream",
     "text": [
      " 99%|█████████▊| 225/228 [04:40<00:03,  1.32s/it]"
     ]
    },
    {
     "name": "stdout",
     "output_type": "stream",
     "text": [
      "Error searching for Adam Zampa: 429 Client Error: Too Many Requests for url: https://www.google.com/sorry/index?continue=https://www.google.com/search%3Fq%3DAdam%2BZampa%2Bprofile%2BESPNcricinfo%2BSRH%26num%3D12%26hl%3Den%26start%3D0%26safe%3Dactive&hl=en&q=EgSpltqCGI6KksAGIjDByffKFi_VZDbsmV8f9ZOaIqh0LQmDFmNj6tZ_JxaoWXVqBZGTlsJdUTsTteRantAyBmpjbmRyUloBQw. Please try again.\n",
      "Adam Zampa profile ESPNcricinfo SRH\n"
     ]
    },
    {
     "name": "stderr",
     "output_type": "stream",
     "text": [
      " 99%|█████████▉| 226/228 [04:41<00:02,  1.15s/it]"
     ]
    },
    {
     "name": "stdout",
     "output_type": "stream",
     "text": [
      "Error searching for Harshal Patel: 429 Client Error: Too Many Requests for url: https://www.google.com/sorry/index?continue=https://www.google.com/search%3Fq%3DHarshal%2BPatel%2Bprofile%2BESPNcricinfo%2BSRH%26num%3D12%26hl%3Den%26start%3D0%26safe%3Dactive&hl=en&q=EgSpltqCGI-KksAGIjB1SZfXxRsUOblWdEhLtScLrbKtvKspiagCyiV0I3-xOm7EwT2x6l8HkVhpGWaqgh4yBmpjbmRyUloBQw. Please try again.\n",
      "Harshal Patel profile ESPNcricinfo SRH\n"
     ]
    },
    {
     "name": "stderr",
     "output_type": "stream",
     "text": [
      "100%|█████████▉| 227/228 [04:42<00:01,  1.24s/it]"
     ]
    },
    {
     "name": "stdout",
     "output_type": "stream",
     "text": [
      "Error searching for Pat Cummins: 429 Client Error: Too Many Requests for url: https://www.google.com/sorry/index?continue=https://www.google.com/search%3Fq%3DPat%2BCummins%2Bprofile%2BESPNcricinfo%2BSRH%26num%3D12%26hl%3Den%26start%3D0%26safe%3Dactive&hl=en&q=EgSpltqCGJCKksAGIjDNAIWMTaAOdXWbghurXeu_2lRRjBEGr988vOdqei6PWx90DdP6pNKGDvI_AwTNfPwyBmpjbmRyUloBQw. Please try again.\n",
      "Pat Cummins profile ESPNcricinfo SRH\n"
     ]
    },
    {
     "name": "stderr",
     "output_type": "stream",
     "text": [
      "100%|██████████| 228/228 [04:43<00:00,  1.26s/it]"
     ]
    },
    {
     "name": "stdout",
     "output_type": "stream",
     "text": [
      "Error searching for Mohammed Shami: 429 Client Error: Too Many Requests for url: https://www.google.com/sorry/index?continue=https://www.google.com/search%3Fq%3DMohammed%2BShami%2Bprofile%2BESPNcricinfo%2BSRH%26num%3D12%26hl%3Den%26start%3D0%26safe%3Dactive&hl=en&q=EgSpltqCGJGKksAGIjBlW0WV2kHBL2buNcFPMfdqnGAQZ_huzRIUYAAC_TH6rNB6Uzg0JrL7p75xEffwmo4yBmpjbmRyUloBQw. Please try again.\n",
      "Mohammed Shami profile ESPNcricinfo SRH\n"
     ]
    },
    {
     "name": "stderr",
     "output_type": "stream",
     "text": [
      "100%|██████████| 228/228 [04:45<00:00,  1.25s/it]"
     ]
    },
    {
     "name": "stdout",
     "output_type": "stream",
     "text": [
      "Error searching for Jaydev Unadkat: 429 Client Error: Too Many Requests for url: https://www.google.com/sorry/index?continue=https://www.google.com/search%3Fq%3DJaydev%2BUnadkat%2Bprofile%2BESPNcricinfo%2BSRH%26num%3D12%26hl%3Den%26start%3D0%26safe%3Dactive&hl=en&q=EgSpltqCGJOKksAGIjAMbMt91_XBKLz-ZNd6d7cP2KmM7zFIlN03PiOvl47AFBvUKbWVBz5RghVrQXCtI5EyBmpjbmRyUloBQw. Please try again.\n",
      "Jaydev Unadkat profile ESPNcricinfo SRH\n"
     ]
    },
    {
     "name": "stderr",
     "output_type": "stream",
     "text": [
      "\n"
     ]
    }
   ],
   "source": [
    "\n",
    "from concurrent.futures import ProcessPoolExecutor\n",
    "from tqdm import tqdm\n",
    "import pandas as pd\n",
    "from googlesearch import search\n",
    "import requests\n",
    "from bs4 import BeautifulSoup\n",
    "\n",
    "tqdm.pandas()\n",
    "\n",
    "\n",
    "def get_espncricinfo_link(row):\n",
    "    if row[\"Player Name\"] == \"Andre Siddharth\":\n",
    "        row[\"Player Name\"] = \"Andre Siddarth\"\n",
    "    if row[\"Team\"] == \"CHE\":\n",
    "        row[\"Team\"] = \"CSK\"\n",
    "\n",
    "    query = f\"{row['Player Name']} profile ESPNcricinfo {row['Team']}\"\n",
    "    try:\n",
    "        search_result = search(query, sleep_interval=2, num_results=10, lang=\"en\", timeout=10)\n",
    "        for link in search_result:\n",
    "            if \"espncricinfo.com\" in link:\n",
    "                return link\n",
    "            \n",
    "        print(f\"Could not find ESPNcricinfo link for {row['Player Name']}.\")\n",
    "        return None\n",
    "\n",
    "    except Exception as e:\n",
    "        print(f\"Error searching for {row['Player Name']}: {e}. Please try again.\")\n",
    "        print(query)\n",
    "        return None\n",
    "    \n",
    "def get_espncricinfo_number(link):\n",
    "    # print(link)\n",
    "    return int(link.split(\"-\")[-1]) if link else None\n",
    "\n",
    "data_dir = \"../testing_data\"\n",
    "name = \"IPL_squad\"\n",
    "csv_file_path = f'{data_dir}/{name}.csv'  # Replace with your input CSV file path\n",
    "output_csv_path = f'{data_dir}/{name}_with_id.csv'  # Replace with your desired output CSV file path\n",
    "df = pd.read_csv(csv_file_path)\n",
    "\n",
    "# with ProcessPoolExecutor(max_workers=1) as executor:\n",
    "#     df[\"ESPNcricinfo Link\"] = list(tqdm(executor.map(get_espncricinfo_link, df[\"Player Name\"]), total=len(df[\"Player Name\"]), desc=\"Adding ESPNcricinfo Links\"))\n",
    "df[\"ESPNcricinfo Link\"] = df.progress_apply(get_espncricinfo_link, axis=1)\n",
    "\n",
    "df['key_cricinfo'] = df['ESPNcricinfo Link'].apply(get_espncricinfo_number)\n",
    "\n",
    "all_players_df = pd.read_csv(\"../data/raw/cricsheet/people.csv\")\n",
    "players_df = pd.merge(df, all_players_df[[\"identifier\", \"key_cricinfo\", \"name\"]], on=\"key_cricinfo\", how=\"left\")\n",
    "\n",
    "players_df.to_csv(output_csv_path, index=False)"
   ]
  },
  {
   "cell_type": "code",
   "execution_count": 37,
   "metadata": {},
   "outputs": [],
   "source": [
    "\n",
    "        # header = {\n",
    "        #     \"accept\": \"*/*\",\n",
    "        #     \"accept-encoding\": \"gzip, deflate, br\",\n",
    "        #     \"accept-language\": \"en-US,en;q=0.9\",\n",
    "        #     \"user-agent\": \"Mozilla/5.0 (Windows NT 10.0; Win64; x64) AppleWebKit/537.36 (KHTML, like Gecko) Chrome/131.0.0.0 Safari/537.36\",\n",
    "        #     # 'User-agent': 'your bot 0.1'\n",
    "        # }\n",
    "        # response = requests.get(f\"https://www.google.com/search?q={query}\")\n",
    "        # if response.status_code == 200:\n",
    "\n",
    "        #     soup = BeautifulSoup(response.text, 'html.parser')\n",
    "        #     links = soup.find_all('a', href=lambda href: href and \"espncricinfo\" in href)\n",
    "        \n",
    "        # else:\n",
    "        #     print(f\"Could not find ESPNcricinfo link for {player_name}.\")\n",
    "        #     return None\n",
    "\n",
    "df.to_csv(\"test.csv\", index=False)"
   ]
  },
  {
   "cell_type": "code",
   "execution_count": 7,
   "metadata": {},
   "outputs": [],
   "source": [
    "import pandas as pd\n",
    "from datetime import datetime\n",
    "\n",
    "df = pd.read_csv(\"/home/himanshu/D11_midprep_FIFS/src/testing_data/ipl_2025_schedule_raw.csv\")\n",
    "\n",
    "df['Date'] = df['Date'].apply(lambda x: datetime.strptime(x, \"%a, %b %d %Y\").strftime(\"%Y-%m-%d\"))\n",
    "df[\"venue\"] = df[\"Stadium\"]\n",
    "df[\"link\"] = df[\"Match Link\"]\n",
    "\n",
    "df.drop(columns=[\"Stadium\", \"Match Link\"], inplace=True)\n",
    "\n",
    "df\n",
    "\n",
    "interim_df = pd.read_csv(\"/home/himanshu/D11_midprep_FIFS/src/data/interim/ipl/all.csv\")\n",
    "venues = interim_df[\"Venue\"].unique()\n",
    "df[\"venue_new\"] = df[\"venue\"].copy()\n",
    "\n",
    "for i in range(len(df)):\n",
    "    if df[\"venue\"][i] not in venues:\n",
    "        if df[\"venue\"][i] == \"Rajiv Gandhi International Stadium, Hyderabad\":\n",
    "            df.loc[i, \"venue_new\"] = \"Rajiv Gandhi International Stadium, Uppal\"\n",
    "        elif df[\"venue\"][i] == \"M.Chinnaswamy Stadium, Bengaluru\":\n",
    "            df.loc[i, \"venue_new\"] = \"M.Chinnaswamy Stadium\"\n",
    "        elif df[\"venue\"][i] == \"MA Chidambaram Stadium, Chennai\":\n",
    "            df.loc[i, \"venue_new\"] = \"MA Chidambaram Stadium, Chepauk\"\n",
    "        elif df[\"venue\"][i] == \"Maharaja Yadavindra Singh International Cricket Stadium, Mullanpur, Chandigarh\":\n",
    "            df.loc[i, \"venue_new\"] = \"Maharaja Yadavindra Singh International Cricket Stadium, Mullanpur\"\n",
    "\n",
    "\n",
    "for i in range(len(df)):\n",
    "    if df[\"venue_new\"][i] not in venues:\n",
    "        print(f\"Venue {df['venue_new'][i]} not found in interim_df.\")\n",
    "\n",
    "\n",
    "df.to_csv(\"../testing_data/ipl_2025_schedule.csv\")"
   ]
  }
 ],
 "metadata": {
  "kernelspec": {
   "display_name": "dream11",
   "language": "python",
   "name": "python3"
  },
  "language_info": {
   "codemirror_mode": {
    "name": "ipython",
    "version": 3
   },
   "file_extension": ".py",
   "mimetype": "text/x-python",
   "name": "python",
   "nbconvert_exporter": "python",
   "pygments_lexer": "ipython3",
   "version": "3.10.16"
  }
 },
 "nbformat": 4,
 "nbformat_minor": 2
}
