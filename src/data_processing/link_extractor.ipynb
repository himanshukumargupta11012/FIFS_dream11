{
 "cells": [
  {
   "cell_type": "code",
   "execution_count": 2,
   "metadata": {},
   "outputs": [
    {
     "name": "stdout",
     "output_type": "stream",
     "text": [
      "           Player Name  key_cricinfo\n",
      "0           Vansh Bedi       1413379\n",
      "1      Andre Siddharth       1440190\n",
      "2    Ramakrishna Ghosh       1339053\n",
      "3        Shaik Rasheed       1292497\n",
      "4     Gurjapneet Singh       1269869\n",
      "..                 ...           ...\n",
      "223         Adam Zampa        379504\n",
      "224      Harshal Patel        390481\n",
      "225        Pat Cummins        489889\n",
      "226     Mohammed Shami        481896\n",
      "227     Jaydev Unadkat        390484\n",
      "\n",
      "[228 rows x 2 columns]\n"
     ]
    }
   ],
   "source": [
    "\n",
    "from concurrent.futures import ProcessPoolExecutor\n",
    "from tqdm import tqdm\n",
    "import pandas as pd\n",
    "from googlesearch import search\n",
    "import requests\n",
    "from bs4 import BeautifulSoup\n",
    "\n",
    "\n",
    "def get_espncricinfo_link(player_name):\n",
    "\n",
    "    if player_name == \"Andre Siddharth\":\n",
    "        player_name = \"Andre Siddarth\"\n",
    "\n",
    "    query = f\"{player_name} ESPNcricinfo\"\n",
    "    try:\n",
    "        for link in search(query, sleep_interval=5, num_results=5, lang=\"en\"):\n",
    "            if \"espncricinfo.com\" in link:\n",
    "                return link\n",
    "            else:\n",
    "                print(f\"Could not find ESPNcricinfo link for {player_name}.\")\n",
    "                return None\n",
    "\n",
    "    except Exception as e:\n",
    "        print(f\"Error searching for {player_name}: {e}. Please try again.\")\n",
    "        return None\n",
    "    \n",
    "def get_espncricinfo_number(link):\n",
    "    return int(link.split(\"-\")[-1]) if link else None\n",
    "\n",
    "data_dir = \"../data/processed\"\n",
    "csv_file_path = f'{data_dir}/IPL_squad.csv'  # Replace with your input CSV file path\n",
    "output_csv_path = f'{data_dir}/all_teams_squad_with_id.csv'  # Replace with your desired output CSV file path\n",
    "df = pd.read_csv(csv_file_path)\n",
    "\n",
    "# with ProcessPoolExecutor(max_workers=1) as executor:\n",
    "#     df[\"ESPNcricinfo Link\"] = list(tqdm(executor.map(get_espncricinfo_link, df[\"Player Name\"]), total=len(df[\"Player Name\"]), desc=\"Adding ESPNcricinfo Links\"))\n",
    "\n",
    "df[\"ESPNcricinfo Link\"] = df[\"Player Name\"].apply(get_espncricinfo_link)\n",
    "df['key_cricinfo'] = df['ESPNcricinfo Link'].apply(get_espncricinfo_number)\n",
    "\n",
    "print(df[[\"Player Name\", \"key_cricinfo\"]])\n",
    "\n",
    "all_players_df = pd.read_csv(\"../data/raw/cricsheet/people.csv\")\n",
    "players_df = pd.merge(df, all_players_df[[\"identifier\", \"key_cricinfo\", \"name\"]], on=\"key_cricinfo\", how=\"left\")\n",
    "\n",
    "players_df.to_csv(output_csv_path, index=False)"
   ]
  },
  {
   "cell_type": "code",
   "execution_count": null,
   "metadata": {},
   "outputs": [],
   "source": [
    "\n",
    "        # header = {\n",
    "        #     \"accept\": \"*/*\",\n",
    "        #     \"accept-encoding\": \"gzip, deflate, br\",\n",
    "        #     \"accept-language\": \"en-US,en;q=0.9\",\n",
    "        #     \"user-agent\": \"Mozilla/5.0 (Windows NT 10.0; Win64; x64) AppleWebKit/537.36 (KHTML, like Gecko) Chrome/131.0.0.0 Safari/537.36\",\n",
    "        #     # 'User-agent': 'your bot 0.1'\n",
    "        # }\n",
    "        # response = requests.get(f\"https://www.google.com/search?q={query}\")\n",
    "        # if response.status_code == 200:\n",
    "\n",
    "        #     soup = BeautifulSoup(response.text, 'html.parser')\n",
    "        #     links = soup.find_all('a', href=lambda href: href and \"espncricinfo\" in href)\n",
    "        \n",
    "        # else:\n",
    "        #     print(f\"Could not find ESPNcricinfo link for {player_name}.\")\n",
    "        #     return None"
   ]
  }
 ],
 "metadata": {
  "kernelspec": {
   "display_name": "dream11",
   "language": "python",
   "name": "python3"
  },
  "language_info": {
   "codemirror_mode": {
    "name": "ipython",
    "version": 3
   },
   "file_extension": ".py",
   "mimetype": "text/x-python",
   "name": "python",
   "nbconvert_exporter": "python",
   "pygments_lexer": "ipython3",
   "version": "3.10.0"
  }
 },
 "nbformat": 4,
 "nbformat_minor": 2
}
